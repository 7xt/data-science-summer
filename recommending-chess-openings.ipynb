{
 "cells": [
  {
   "cell_type": "markdown",
   "metadata": {
    "_cell_guid": "a8a133bd-2bde-494d-957a-871bd8944803",
    "_uuid": "59ae712fcc0034e8f72c61ef39f9f5a595f47117"
   },
   "source": [
    "# Recommending Chess Openings\n",
    "\n",
    "In this notebook we will explore what kinds of chess openings tend to go together. Suppose, for example, that a user like to use the Sicilian Defense. Are they more or less likely to also be users of the King''s Gambit?\n",
    "\n",
    "The idea is that this should be an interesting application of recommendation."
   ]
  },
  {
   "cell_type": "code",
   "execution_count": 1,
   "metadata": {
    "_cell_guid": "835f7711-f481-4b40-9d44-a782c892a4d0",
    "_uuid": "306f5a6b411062b55f67f4ccd28b37764a2ea053",
    "collapsed": true,
    "scrolled": true
   },
   "outputs": [
    {
     "data": {
      "text/html": [
       "<div>\n",
       "<style>\n",
       "    .dataframe thead tr:only-child th {\n",
       "        text-align: right;\n",
       "    }\n",
       "\n",
       "    .dataframe thead th {\n",
       "        text-align: left;\n",
       "    }\n",
       "\n",
       "    .dataframe tbody tr th {\n",
       "        vertical-align: top;\n",
       "    }\n",
       "</style>\n",
       "<table border=\"1\" class=\"dataframe\">\n",
       "  <thead>\n",
       "    <tr style=\"text-align: right;\">\n",
       "      <th></th>\n",
       "      <th>id</th>\n",
       "      <th>rated</th>\n",
       "      <th>created_at</th>\n",
       "      <th>last_move_at</th>\n",
       "      <th>turns</th>\n",
       "      <th>victory_status</th>\n",
       "      <th>winner</th>\n",
       "      <th>increment_code</th>\n",
       "      <th>white_id</th>\n",
       "      <th>white_rating</th>\n",
       "      <th>black_id</th>\n",
       "      <th>black_rating</th>\n",
       "      <th>moves</th>\n",
       "      <th>opening_eco</th>\n",
       "      <th>opening_name</th>\n",
       "      <th>opening_ply</th>\n",
       "    </tr>\n",
       "  </thead>\n",
       "  <tbody>\n",
       "    <tr>\n",
       "      <th>0</th>\n",
       "      <td>TZJHLljE</td>\n",
       "      <td>False</td>\n",
       "      <td>1.504210e+12</td>\n",
       "      <td>1.504210e+12</td>\n",
       "      <td>13</td>\n",
       "      <td>outoftime</td>\n",
       "      <td>white</td>\n",
       "      <td>15+2</td>\n",
       "      <td>bourgris</td>\n",
       "      <td>1500</td>\n",
       "      <td>a-00</td>\n",
       "      <td>1191</td>\n",
       "      <td>d4 d5 c4 c6 cxd5 e6 dxe6 fxe6 Nf3 Bb4+ Nc3 Ba5...</td>\n",
       "      <td>D10</td>\n",
       "      <td>Slav Defense: Exchange Variation</td>\n",
       "      <td>5</td>\n",
       "    </tr>\n",
       "    <tr>\n",
       "      <th>1</th>\n",
       "      <td>l1NXvwaE</td>\n",
       "      <td>True</td>\n",
       "      <td>1.504130e+12</td>\n",
       "      <td>1.504130e+12</td>\n",
       "      <td>16</td>\n",
       "      <td>resign</td>\n",
       "      <td>black</td>\n",
       "      <td>5+10</td>\n",
       "      <td>a-00</td>\n",
       "      <td>1322</td>\n",
       "      <td>skinnerua</td>\n",
       "      <td>1261</td>\n",
       "      <td>d4 Nc6 e4 e5 f4 f6 dxe5 fxe5 fxe5 Nxe5 Qd4 Nc6...</td>\n",
       "      <td>B00</td>\n",
       "      <td>Nimzowitsch Defense: Kennedy Variation</td>\n",
       "      <td>4</td>\n",
       "    </tr>\n",
       "    <tr>\n",
       "      <th>2</th>\n",
       "      <td>mIICvQHh</td>\n",
       "      <td>True</td>\n",
       "      <td>1.504130e+12</td>\n",
       "      <td>1.504130e+12</td>\n",
       "      <td>61</td>\n",
       "      <td>mate</td>\n",
       "      <td>white</td>\n",
       "      <td>5+10</td>\n",
       "      <td>ischia</td>\n",
       "      <td>1496</td>\n",
       "      <td>a-00</td>\n",
       "      <td>1500</td>\n",
       "      <td>e4 e5 d3 d6 Be3 c6 Be2 b5 Nd2 a5 a4 c5 axb5 Nc...</td>\n",
       "      <td>C20</td>\n",
       "      <td>King's Pawn Game: Leonardis Variation</td>\n",
       "      <td>3</td>\n",
       "    </tr>\n",
       "  </tbody>\n",
       "</table>\n",
       "</div>"
      ],
      "text/plain": [
       "         id  rated    created_at  last_move_at  turns victory_status winner  \\\n",
       "0  TZJHLljE  False  1.504210e+12  1.504210e+12     13      outoftime  white   \n",
       "1  l1NXvwaE   True  1.504130e+12  1.504130e+12     16         resign  black   \n",
       "2  mIICvQHh   True  1.504130e+12  1.504130e+12     61           mate  white   \n",
       "\n",
       "  increment_code  white_id  white_rating   black_id  black_rating  \\\n",
       "0           15+2  bourgris          1500       a-00          1191   \n",
       "1           5+10      a-00          1322  skinnerua          1261   \n",
       "2           5+10    ischia          1496       a-00          1500   \n",
       "\n",
       "                                               moves opening_eco  \\\n",
       "0  d4 d5 c4 c6 cxd5 e6 dxe6 fxe6 Nf3 Bb4+ Nc3 Ba5...         D10   \n",
       "1  d4 Nc6 e4 e5 f4 f6 dxe5 fxe5 fxe5 Nxe5 Qd4 Nc6...         B00   \n",
       "2  e4 e5 d3 d6 Be3 c6 Be2 b5 Nd2 a5 a4 c5 axb5 Nc...         C20   \n",
       "\n",
       "                             opening_name  opening_ply  \n",
       "0        Slav Defense: Exchange Variation            5  \n",
       "1  Nimzowitsch Defense: Kennedy Variation            4  \n",
       "2   King's Pawn Game: Leonardis Variation            3  "
      ]
     },
     "execution_count": 1,
     "metadata": {},
     "output_type": "execute_result"
    }
   ],
   "source": [
    "import pandas as pd\n",
    "games = pd.read_csv(\"../input/games.csv\")\n",
    "games.head(3)"
   ]
  },
  {
   "cell_type": "markdown",
   "metadata": {
    "_cell_guid": "cf33ec10-5514-4099-87bf-68fcbffed8c3",
    "_uuid": "9fc483e22198798dd6fa1bdae483e80c755223ab"
   },
   "source": [
    "## Exploring Feasibility\n",
    "\n",
    "Before we go through with building a recommendation engine lets explore the feasibility of doing such a thing with the data that we have.\n",
    "\n",
    "We will need to bring a couple of new fields into our frame. `opening_archetype` is the overall \"type\" of a opening that is used. Since chess openings have been studied for centuries, all of the relatively popular ones have many and many well-studied variations, information on which is included in `opening_name`. We don't need this additional information, so let's pull it out."
   ]
  },
  {
   "cell_type": "markdown",
   "metadata": {
    "_cell_guid": "48367c7c-9f9a-4e37-8251-8912fc13f59b",
    "_uuid": "2f88c65350c4a5c22f43398236c7f391e1bda89f"
   },
   "source": [
    "### Is the sample size large enough to build a model on?"
   ]
  },
  {
   "cell_type": "code",
   "execution_count": 2,
   "metadata": {
    "_cell_guid": "a54bab23-ad5c-45e2-8920-b854c2f0ca1c",
    "_uuid": "589667be3a2bca00ae0718a119595f254aabe364",
    "collapsed": true
   },
   "outputs": [],
   "source": [
    "games = (\n",
    "    games.assign(\n",
    "        opening_archetype=games.opening_name.map(\n",
    "            lambda n: n.split(\":\")[0].split(\"|\")[0].split(\"#\")[0].strip()\n",
    "        ),\n",
    "        opening_moves=games.apply(lambda srs: srs['moves'].split(\" \")[:srs['opening_ply']],\n",
    "                                  axis=1)\n",
    "    )\n",
    ")"
   ]
  },
  {
   "cell_type": "markdown",
   "metadata": {
    "_cell_guid": "40e59c74-99b8-4036-a473-f03539d1902c",
    "_uuid": "d4a7bba8d886d9375abc385b2c6fdb41ffea6a8a"
   },
   "source": [
    "Now, if a player has only ever played a single game on the platform, then we do not learn anything about their opening preferences, because there is not enough data. Only players who have played `N>=2` games are helpful to us. How many such players are there?"
   ]
  },
  {
   "cell_type": "code",
   "execution_count": 3,
   "metadata": {
    "_cell_guid": "e569955f-b7be-4dbd-8736-026d22c6436f",
    "_uuid": "fc280a6eee4285bb44ef25be785febea258a1a87",
    "collapsed": true
   },
   "outputs": [
    {
     "name": "stdout",
     "output_type": "stream",
     "text": [
      "4466 players who have played at least two games.\n"
     ]
    },
    {
     "data": {
      "text/plain": [
       "15635"
      ]
     },
     "execution_count": 3,
     "metadata": {},
     "output_type": "execute_result"
    },
    {
     "data": {
      "image/png": "[encoded data removed]",
      "text/plain": [
       "<matplotlib.figure.Figure at 0x7f45a968a4a8>"
      ]
     },
     "metadata": {},
     "output_type": "display_data"
    }
   ],
   "source": [
    "games_played = pd.concat([games['white_id'], games['black_id']]).value_counts()\n",
    "games_played.reset_index(drop=True).plot.line(figsize=(16, 8), fontsize=18)\n",
    "\n",
    "n_ge_2 = len(games_played[games_played > 1])\n",
    "print(str(n_ge_2) + \" players who have played at least two games.\")\n",
    "\n",
    "import matplotlib.pyplot as plt\n",
    "plt.axvline(n_ge_2, color='green')\n",
    "\n",
    "len(games_played)"
   ]
  },
  {
   "cell_type": "markdown",
   "metadata": {
    "_cell_guid": "65cf7cbb-34f0-4f30-93b9-cb9b0af7f618",
    "_uuid": "3d9372227cbb4963264f99618a5ee456f7c29414"
   },
   "source": [
    "How many games do those ~4500 players provide us with?"
   ]
  },
  {
   "cell_type": "code",
   "execution_count": 4,
   "metadata": {
    "_cell_guid": "c8edf53e-48eb-47fd-bc34-04764f2866ae",
    "_uuid": "8b615615802ed87fed830ccf40f152cb6bb3c175",
    "collapsed": true
   },
   "outputs": [
    {
     "data": {
      "text/plain": [
       "28947"
      ]
     },
     "execution_count": 4,
     "metadata": {},
     "output_type": "execute_result"
    }
   ],
   "source": [
    "games_played[games_played > 1].sum()"
   ]
  },
  {
   "cell_type": "markdown",
   "metadata": {
    "_cell_guid": "949e8c45-311e-4a7e-8b2f-be67ff97278e",
    "_uuid": "8fac6c508fa5b45145a56963d2f55db0198f6aa0"
   },
   "source": [
    "### Does strategy vary strongly enough amongst players?\n",
    "\n",
    "We can think of our dataset as having ~4500 raters with ~30000 ratings amongst them. That seems like a decent enough sample size.\n",
    "\n",
    "But what about the strength of player preferences? The more strongly our chess players tend to use the same opening moves&mdash;that is, the less preference they express, and the more standard the strategy they follow&mdash;the less interesting any recommendations will be.\n",
    "\n",
    "So next, let's sense-check whether or there is significant playstyle variation between players. After doing some domain research, I decided to see what would happen if we pit players using the Sicilian Defense strategy (a standard *defensive* opening) against King's Gambit players (a standard *offensive* opening).\n",
    "\n",
    "Because of how commonly played the Sicilian Defense is, I refer to the first of these distributions as the **Sicilian mean**, because it's reasonably close to the mean of all games played. The King's Gambit, meanwhile, is an also common, but significantly more \"scipy\" move.\n",
    "\n",
    "Hopefully we will find that, in aggregate, players at least occassionally using these different strategies also use very different strategies overall."
   ]
  },
  {
   "cell_type": "code",
   "execution_count": 5,
   "metadata": {
    "_cell_guid": "df766ee2-0eca-4a08-be37-a24d93c24196",
    "_uuid": "36b1dacce93a743923c44186db9ee7a82f2dc909",
    "collapsed": true
   },
   "outputs": [],
   "source": [
    "opening_used = (pd.concat([\n",
    "                   games.groupby('white_id')['opening_archetype'].value_counts(),\n",
    "                   games.groupby('black_id')['opening_archetype'].value_counts()\n",
    "                ])\n",
    "                    .rename(index='openings_used')\n",
    "                    .reset_index()\n",
    "                    .rename(columns={'white_id': 'player_id', 'openings_used': 'times_used'})\n",
    "                    .groupby(['player_id', 'opening_archetype']).sum()\n",
    "               )"
   ]
  },
  {
   "cell_type": "code",
   "execution_count": 6,
   "metadata": {
    "_cell_guid": "12193f17-33a7-4842-a85e-8937de0ccb74",
    "_uuid": "cf3c5e65c57b25b7764e312367796ad365d23a39",
    "collapsed": true
   },
   "outputs": [
    {
     "data": {
      "text/html": [
       "<div>\n",
       "<style>\n",
       "    .dataframe thead tr:only-child th {\n",
       "        text-align: right;\n",
       "    }\n",
       "\n",
       "    .dataframe thead th {\n",
       "        text-align: left;\n",
       "    }\n",
       "\n",
       "    .dataframe tbody tr th {\n",
       "        vertical-align: top;\n",
       "    }\n",
       "</style>\n",
       "<table border=\"1\" class=\"dataframe\">\n",
       "  <thead>\n",
       "    <tr style=\"text-align: right;\">\n",
       "      <th></th>\n",
       "      <th></th>\n",
       "      <th>times_used</th>\n",
       "    </tr>\n",
       "    <tr>\n",
       "      <th>player_id</th>\n",
       "      <th>opening_archetype</th>\n",
       "      <th></th>\n",
       "    </tr>\n",
       "  </thead>\n",
       "  <tbody>\n",
       "    <tr>\n",
       "      <th>--jim--</th>\n",
       "      <th>Scandinavian Defense</th>\n",
       "      <td>1</td>\n",
       "    </tr>\n",
       "    <tr>\n",
       "      <th>-0olo0-</th>\n",
       "      <th>French Defense</th>\n",
       "      <td>1</td>\n",
       "    </tr>\n",
       "    <tr>\n",
       "      <th rowspan=\"6\" valign=\"top\">-l-_jedi_knight_-l-</th>\n",
       "      <th>Guatemala Defense</th>\n",
       "      <td>1</td>\n",
       "    </tr>\n",
       "    <tr>\n",
       "      <th>Hungarian Opening</th>\n",
       "      <td>3</td>\n",
       "    </tr>\n",
       "    <tr>\n",
       "      <th>King's Gambit Accepted</th>\n",
       "      <td>1</td>\n",
       "    </tr>\n",
       "    <tr>\n",
       "      <th>Owen Defense</th>\n",
       "      <td>2</td>\n",
       "    </tr>\n",
       "    <tr>\n",
       "      <th>Pirc Defense</th>\n",
       "      <td>1</td>\n",
       "    </tr>\n",
       "    <tr>\n",
       "      <th>Scandinavian Defense</th>\n",
       "      <td>4</td>\n",
       "    </tr>\n",
       "    <tr>\n",
       "      <th>-mati-</th>\n",
       "      <th>Barnes Defense</th>\n",
       "      <td>1</td>\n",
       "    </tr>\n",
       "    <tr>\n",
       "      <th>-pavel-</th>\n",
       "      <th>Scandinavian Defense</th>\n",
       "      <td>1</td>\n",
       "    </tr>\n",
       "  </tbody>\n",
       "</table>\n",
       "</div>"
      ],
      "text/plain": [
       "                                            times_used\n",
       "player_id           opening_archetype                 \n",
       "--jim--             Scandinavian Defense             1\n",
       "-0olo0-             French Defense                   1\n",
       "-l-_jedi_knight_-l- Guatemala Defense                1\n",
       "                    Hungarian Opening                3\n",
       "                    King's Gambit Accepted           1\n",
       "                    Owen Defense                     2\n",
       "                    Pirc Defense                     1\n",
       "                    Scandinavian Defense             4\n",
       "-mati-              Barnes Defense                   1\n",
       "-pavel-             Scandinavian Defense             1"
      ]
     },
     "execution_count": 6,
     "metadata": {},
     "output_type": "execute_result"
    }
   ],
   "source": [
    "opening_used.head(10)"
   ]
  },
  {
   "cell_type": "code",
   "execution_count": 7,
   "metadata": {
    "_cell_guid": "2d990069-ac4e-4054-a2e3-090990b7036c",
    "_uuid": "acd675ba66de73e14533a3743bd8329263467975",
    "collapsed": true
   },
   "outputs": [
    {
     "data": {
      "text/plain": [
       "opening_archetype\n",
       "French Defense          0.081564\n",
       "Italian Game            0.067175\n",
       "Queen's Pawn Game       0.060557\n",
       "Ruy Lopez               0.060095\n",
       "King's Pawn Game        0.046322\n",
       "Philidor Defense        0.043552\n",
       "English Opening         0.042475\n",
       "Scandinavian Defense    0.041474\n",
       "Caro-Kann Defense       0.034857\n",
       "Scotch Game             0.032779\n",
       "Name: times_used, dtype: float64"
      ]
     },
     "execution_count": 7,
     "metadata": {},
     "output_type": "execute_result"
    }
   ],
   "source": [
    "(opening_used\n",
    "     .reset_index()\n",
    "     .groupby('player_id')\n",
    "     .filter(lambda df: df.opening_archetype.isin(['Sicilian Defense']).any())\n",
    "     .query('opening_archetype != \"Sicilian Defense\"')\n",
    "     .groupby('opening_archetype')\n",
    "     .times_used\n",
    "     .sum()\n",
    "     .sort_values(ascending=False)\n",
    "     .to_frame()\n",
    "     .pipe(lambda df: df.assign(times_used = df.times_used / df.times_used.sum()))\n",
    "     .squeeze()\n",
    "     .head(10)\n",
    ")"
   ]
  },
  {
   "cell_type": "code",
   "execution_count": 8,
   "metadata": {
    "_cell_guid": "d685174a-3a08-4334-bc5c-74022aa5c12c",
    "_uuid": "388b5eda0f48702bedfac272916d03eb911a7812",
    "collapsed": true
   },
   "outputs": [
    {
     "data": {
      "text/plain": [
       "opening_archetype\n",
       "Sicilian Defense        0.106635\n",
       "French Defense          0.073460\n",
       "King's Pawn Game        0.070300\n",
       "Queen's Pawn Game       0.063981\n",
       "Philidor Defense        0.063191\n",
       "Italian Game            0.052923\n",
       "Ruy Lopez               0.041864\n",
       "Scandinavian Defense    0.039494\n",
       "Four Knights Game       0.026856\n",
       "Bishop's Opening        0.026066\n",
       "Name: times_used, dtype: float64"
      ]
     },
     "execution_count": 8,
     "metadata": {},
     "output_type": "execute_result"
    }
   ],
   "source": [
    "(opening_used\n",
    "     .reset_index()\n",
    "     .groupby('player_id')\n",
    "     .filter(lambda df: df.opening_archetype.isin([\"King's Gambit\"]).any())\n",
    "     .query('opening_archetype != \"King\\'s Gambit\"')\n",
    "     .groupby('opening_archetype')\n",
    "     .times_used\n",
    "     .sum()\n",
    "     .sort_values(ascending=False)\n",
    "     .to_frame()\n",
    "     .pipe(lambda df: df.assign(times_used = df.times_used / df.times_used.sum()))\n",
    "     .squeeze()\n",
    "     .head(10)\n",
    ")"
   ]
  },
  {
   "cell_type": "markdown",
   "metadata": {
    "_cell_guid": "e1e5f688-0695-4c99-823b-1033a9c69a5f",
    "_uuid": "580c851b0f693bffa34269683083280256ab0a22"
   },
   "source": [
    "There are many differences to take note of. A King's Pawn Game is about 50% more likely for a King's Gambit player than it is for a Sicilian mean player. Another difference is that the English Defense is much less popular with the latter. Other differences are also apparent.\n",
    "\n",
    "Overall, there is decent evidence that recommendations built on chess openings would be useful. Overall, the variation in play that we found with this inspection seems significant."
   ]
  },
  {
   "cell_type": "markdown",
   "metadata": {
    "_cell_guid": "db8bdb7d-4912-4afa-9abe-b2be0923d7a7",
    "_uuid": "ac88e35a923f369355888b9304eb816419773fb7"
   },
   "source": [
    "## Building a Simple Recommendation Engine\n",
    "\n",
    "Now that we've gathered evidence that doing so is useful, we move on to building our actual recommendation engine.\n",
    "\n",
    "The simplest recommendation engine algorithm is **collaborative filtering**. In collaborative filtering, we can use one of two approaches to recommendation. Each one is an inverse of the other, and both are based on similarities between \"stuff\".\n",
    "\n",
    "In the first approach, users are measured for the similarity between their ratings using some normalized distance metric. Then a new recommendation for a user is generated based on the weighed popularity of the items that similar users like.\n",
    "\n",
    "### Converting Implicit Ratings to Explicit Ratings\n",
    "\n",
    "Let's try this approach out. We already have users, but we haven't implemented ratings yet. Indeed, our dataset doesn't have so-called **explicit ratings**: our players don't \"rate\" chess openings on a five-star ranking system, for example. Instead, players are generating **implicit ratings**: they are choosing to use certain openings, or choosing not to use them, and those choices encode preferences, but not explicitly.\n",
    "\n",
    "To proceed, we need to convert these implicit ratings to explicit ones. Since we're not building any serious system but merely demonstrating what is possible, let's use a simple exponential threshold approach. If a user has played `N` games, and used the opening in question more than `N / 4` times, then that opening is a five-star for them. More than `N / 8` is a four-star, more than `N / 16` is a three-star, and anything less than that is a two-star.\n",
    "\n",
    "*Warning: this cells has not been vectorized and so takes about a minute-and-a-half to run.*"
   ]
  },
  {
   "cell_type": "code",
   "execution_count": 9,
   "metadata": {
    "_cell_guid": "e49dfc87-bf68-4d2e-95a4-ac9d585d8c4d",
    "_uuid": "1aaa718e474b88a7dd953cb160db913c4c2709e9",
    "collapsed": true
   },
   "outputs": [],
   "source": [
    "import numpy as np\n",
    "\n",
    "def threshold_map(n_opening, n_all):\n",
    "    if pd.isnull(n_opening):\n",
    "        return np.nan\n",
    "    elif n_opening / n_all >= 1 / 4:\n",
    "        return 5\n",
    "    elif n_opening / n_all >= 1 / 8:\n",
    "        return 4\n",
    "    elif n_opening / n_all > 1 / 16:\n",
    "        return 3\n",
    "    else:\n",
    "        return 2\n",
    "\n",
    "recommendations = opening_used.unstack(-1).loc[:, 'times_used'].apply(\n",
    "    lambda srs: srs.map(lambda v: threshold_map(v, srs.sum())),\n",
    "    axis='columns'\n",
    ")"
   ]
  },
  {
   "cell_type": "code",
   "execution_count": 10,
   "metadata": {
    "_cell_guid": "0556eddc-f658-48ce-8872-30390da0e7e2",
    "_uuid": "28a372e50fb021562983eeb151834e40ce8bf006",
    "collapsed": true
   },
   "outputs": [
    {
     "data": {
      "text/html": [
       "<div>\n",
       "<style>\n",
       "    .dataframe thead tr:only-child th {\n",
       "        text-align: right;\n",
       "    }\n",
       "\n",
       "    .dataframe thead th {\n",
       "        text-align: left;\n",
       "    }\n",
       "\n",
       "    .dataframe tbody tr th {\n",
       "        vertical-align: top;\n",
       "    }\n",
       "</style>\n",
       "<table border=\"1\" class=\"dataframe\">\n",
       "  <thead>\n",
       "    <tr style=\"text-align: right;\">\n",
       "      <th>opening_archetype</th>\n",
       "      <th>Alekhine Defense</th>\n",
       "      <th>Amar Opening</th>\n",
       "      <th>Amazon Attack</th>\n",
       "      <th>Anderssen Opening</th>\n",
       "      <th>Australian Defense</th>\n",
       "      <th>Barnes Defense</th>\n",
       "      <th>Barnes Opening</th>\n",
       "      <th>Benko Gambit</th>\n",
       "      <th>Benko Gambit Accepted</th>\n",
       "      <th>Benko Gambit Declined</th>\n",
       "      <th>...</th>\n",
       "      <th>Trompowsky Attack</th>\n",
       "      <th>Valencia Opening</th>\n",
       "      <th>Van Geet Opening</th>\n",
       "      <th>Van't Kruijs Opening</th>\n",
       "      <th>Vienna Game</th>\n",
       "      <th>Wade Defense</th>\n",
       "      <th>Ware Defense</th>\n",
       "      <th>Ware Opening</th>\n",
       "      <th>Yusupov-Rubinstein System</th>\n",
       "      <th>Zukertort Opening</th>\n",
       "    </tr>\n",
       "    <tr>\n",
       "      <th>player_id</th>\n",
       "      <th></th>\n",
       "      <th></th>\n",
       "      <th></th>\n",
       "      <th></th>\n",
       "      <th></th>\n",
       "      <th></th>\n",
       "      <th></th>\n",
       "      <th></th>\n",
       "      <th></th>\n",
       "      <th></th>\n",
       "      <th></th>\n",
       "      <th></th>\n",
       "      <th></th>\n",
       "      <th></th>\n",
       "      <th></th>\n",
       "      <th></th>\n",
       "      <th></th>\n",
       "      <th></th>\n",
       "      <th></th>\n",
       "      <th></th>\n",
       "      <th></th>\n",
       "    </tr>\n",
       "  </thead>\n",
       "  <tbody>\n",
       "    <tr>\n",
       "      <th>--jim--</th>\n",
       "      <td>NaN</td>\n",
       "      <td>NaN</td>\n",
       "      <td>NaN</td>\n",
       "      <td>NaN</td>\n",
       "      <td>NaN</td>\n",
       "      <td>NaN</td>\n",
       "      <td>NaN</td>\n",
       "      <td>NaN</td>\n",
       "      <td>NaN</td>\n",
       "      <td>NaN</td>\n",
       "      <td>...</td>\n",
       "      <td>NaN</td>\n",
       "      <td>NaN</td>\n",
       "      <td>NaN</td>\n",
       "      <td>NaN</td>\n",
       "      <td>NaN</td>\n",
       "      <td>NaN</td>\n",
       "      <td>NaN</td>\n",
       "      <td>NaN</td>\n",
       "      <td>NaN</td>\n",
       "      <td>NaN</td>\n",
       "    </tr>\n",
       "    <tr>\n",
       "      <th>-0olo0-</th>\n",
       "      <td>NaN</td>\n",
       "      <td>NaN</td>\n",
       "      <td>NaN</td>\n",
       "      <td>NaN</td>\n",
       "      <td>NaN</td>\n",
       "      <td>NaN</td>\n",
       "      <td>NaN</td>\n",
       "      <td>NaN</td>\n",
       "      <td>NaN</td>\n",
       "      <td>NaN</td>\n",
       "      <td>...</td>\n",
       "      <td>NaN</td>\n",
       "      <td>NaN</td>\n",
       "      <td>NaN</td>\n",
       "      <td>NaN</td>\n",
       "      <td>NaN</td>\n",
       "      <td>NaN</td>\n",
       "      <td>NaN</td>\n",
       "      <td>NaN</td>\n",
       "      <td>NaN</td>\n",
       "      <td>NaN</td>\n",
       "    </tr>\n",
       "    <tr>\n",
       "      <th>-l-_jedi_knight_-l-</th>\n",
       "      <td>NaN</td>\n",
       "      <td>NaN</td>\n",
       "      <td>NaN</td>\n",
       "      <td>NaN</td>\n",
       "      <td>NaN</td>\n",
       "      <td>NaN</td>\n",
       "      <td>NaN</td>\n",
       "      <td>NaN</td>\n",
       "      <td>NaN</td>\n",
       "      <td>NaN</td>\n",
       "      <td>...</td>\n",
       "      <td>NaN</td>\n",
       "      <td>NaN</td>\n",
       "      <td>NaN</td>\n",
       "      <td>NaN</td>\n",
       "      <td>NaN</td>\n",
       "      <td>NaN</td>\n",
       "      <td>NaN</td>\n",
       "      <td>NaN</td>\n",
       "      <td>NaN</td>\n",
       "      <td>NaN</td>\n",
       "    </tr>\n",
       "    <tr>\n",
       "      <th>-mati-</th>\n",
       "      <td>NaN</td>\n",
       "      <td>NaN</td>\n",
       "      <td>NaN</td>\n",
       "      <td>NaN</td>\n",
       "      <td>NaN</td>\n",
       "      <td>5.0</td>\n",
       "      <td>NaN</td>\n",
       "      <td>NaN</td>\n",
       "      <td>NaN</td>\n",
       "      <td>NaN</td>\n",
       "      <td>...</td>\n",
       "      <td>NaN</td>\n",
       "      <td>NaN</td>\n",
       "      <td>NaN</td>\n",
       "      <td>NaN</td>\n",
       "      <td>NaN</td>\n",
       "      <td>NaN</td>\n",
       "      <td>NaN</td>\n",
       "      <td>NaN</td>\n",
       "      <td>NaN</td>\n",
       "      <td>NaN</td>\n",
       "    </tr>\n",
       "    <tr>\n",
       "      <th>-pavel-</th>\n",
       "      <td>NaN</td>\n",
       "      <td>NaN</td>\n",
       "      <td>NaN</td>\n",
       "      <td>NaN</td>\n",
       "      <td>NaN</td>\n",
       "      <td>NaN</td>\n",
       "      <td>NaN</td>\n",
       "      <td>NaN</td>\n",
       "      <td>NaN</td>\n",
       "      <td>NaN</td>\n",
       "      <td>...</td>\n",
       "      <td>NaN</td>\n",
       "      <td>NaN</td>\n",
       "      <td>NaN</td>\n",
       "      <td>NaN</td>\n",
       "      <td>NaN</td>\n",
       "      <td>NaN</td>\n",
       "      <td>NaN</td>\n",
       "      <td>NaN</td>\n",
       "      <td>NaN</td>\n",
       "      <td>NaN</td>\n",
       "    </tr>\n",
       "  </tbody>\n",
       "</table>\n",
       "<p>5 rows × 143 columns</p>\n",
       "</div>"
      ],
      "text/plain": [
       "opening_archetype    Alekhine Defense  Amar Opening  Amazon Attack  \\\n",
       "player_id                                                            \n",
       "--jim--                           NaN           NaN            NaN   \n",
       "-0olo0-                           NaN           NaN            NaN   \n",
       "-l-_jedi_knight_-l-               NaN           NaN            NaN   \n",
       "-mati-                            NaN           NaN            NaN   \n",
       "-pavel-                           NaN           NaN            NaN   \n",
       "\n",
       "opening_archetype    Anderssen Opening  Australian Defense  Barnes Defense  \\\n",
       "player_id                                                                    \n",
       "--jim--                            NaN                 NaN             NaN   \n",
       "-0olo0-                            NaN                 NaN             NaN   \n",
       "-l-_jedi_knight_-l-                NaN                 NaN             NaN   \n",
       "-mati-                             NaN                 NaN             5.0   \n",
       "-pavel-                            NaN                 NaN             NaN   \n",
       "\n",
       "opening_archetype    Barnes Opening  Benko Gambit  Benko Gambit Accepted  \\\n",
       "player_id                                                                  \n",
       "--jim--                         NaN           NaN                    NaN   \n",
       "-0olo0-                         NaN           NaN                    NaN   \n",
       "-l-_jedi_knight_-l-             NaN           NaN                    NaN   \n",
       "-mati-                          NaN           NaN                    NaN   \n",
       "-pavel-                         NaN           NaN                    NaN   \n",
       "\n",
       "opening_archetype    Benko Gambit Declined        ...          \\\n",
       "player_id                                         ...           \n",
       "--jim--                                NaN        ...           \n",
       "-0olo0-                                NaN        ...           \n",
       "-l-_jedi_knight_-l-                    NaN        ...           \n",
       "-mati-                                 NaN        ...           \n",
       "-pavel-                                NaN        ...           \n",
       "\n",
       "opening_archetype    Trompowsky Attack  Valencia Opening  Van Geet Opening  \\\n",
       "player_id                                                                    \n",
       "--jim--                            NaN               NaN               NaN   \n",
       "-0olo0-                            NaN               NaN               NaN   \n",
       "-l-_jedi_knight_-l-                NaN               NaN               NaN   \n",
       "-mati-                             NaN               NaN               NaN   \n",
       "-pavel-                            NaN               NaN               NaN   \n",
       "\n",
       "opening_archetype    Van't Kruijs Opening  Vienna Game  Wade Defense  \\\n",
       "player_id                                                              \n",
       "--jim--                               NaN          NaN           NaN   \n",
       "-0olo0-                               NaN          NaN           NaN   \n",
       "-l-_jedi_knight_-l-                   NaN          NaN           NaN   \n",
       "-mati-                                NaN          NaN           NaN   \n",
       "-pavel-                               NaN          NaN           NaN   \n",
       "\n",
       "opening_archetype    Ware Defense  Ware Opening  Yusupov-Rubinstein System  \\\n",
       "player_id                                                                    \n",
       "--jim--                       NaN           NaN                        NaN   \n",
       "-0olo0-                       NaN           NaN                        NaN   \n",
       "-l-_jedi_knight_-l-           NaN           NaN                        NaN   \n",
       "-mati-                        NaN           NaN                        NaN   \n",
       "-pavel-                       NaN           NaN                        NaN   \n",
       "\n",
       "opening_archetype    Zukertort Opening  \n",
       "player_id                               \n",
       "--jim--                            NaN  \n",
       "-0olo0-                            NaN  \n",
       "-l-_jedi_knight_-l-                NaN  \n",
       "-mati-                             NaN  \n",
       "-pavel-                            NaN  \n",
       "\n",
       "[5 rows x 143 columns]"
      ]
     },
     "execution_count": 10,
     "metadata": {},
     "output_type": "execute_result"
    }
   ],
   "source": [
    "recommendations.head()"
   ]
  },
  {
   "cell_type": "markdown",
   "metadata": {
    "_cell_guid": "01671891-ae8d-470e-a7ba-c7f2fbdf8070",
    "_uuid": "410d7116bd8c9fe3247a839af23bb18651f73d74"
   },
   "source": [
    "This gets us a result which is relatively similar to what you find out \"in the wild\": a distribution dominated by 5-star ratings ([relevant XKCD](https://xkcd.com/1098/))."
   ]
  },
  {
   "cell_type": "code",
   "execution_count": 11,
   "metadata": {
    "_cell_guid": "51e31f8b-4ae4-485c-a1a4-629c0ac6c80c",
    "_uuid": "efc78398d6a6fcf09efdae3c825e2f8629ffbbb6",
    "collapsed": true,
    "scrolled": true
   },
   "outputs": [
    {
     "data": {
      "text/plain": [
       "<matplotlib.axes._subplots.AxesSubplot at 0x7f45aa9abdd8>"
      ]
     },
     "execution_count": 11,
     "metadata": {},
     "output_type": "execute_result"
    },
    {
     "data": {
      "image/png": "[encoded data removed]",
      "text/plain": [
       "<matplotlib.figure.Figure at 0x7f45aa63e128>"
      ]
     },
     "metadata": {},
     "output_type": "display_data"
    }
   ],
   "source": [
    "pd.Series(recommendations.values.flatten()).value_counts().sort_index().plot.bar()"
   ]
  },
  {
   "cell_type": "markdown",
   "metadata": {
    "_cell_guid": "18205546-042f-4071-ae81-f6eaf9ab7e34",
    "_uuid": "c9baf74f1ee97e5abcd5eb3ec9d173e788c8db1a"
   },
   "source": [
    "### Choosing a Similarity Metric\n",
    "\n",
    "To keep going, we need to know how to measure how similar two users are. One of the simplest metrics for measuring this is **cosine similarity**. To compare the similarity between two items (or users!) we do:\n",
    "\n",
    "$$\n",
    "s_u^{cos}(i_m,i_b)\n",
    " = \\frac{ i_m \\cdot i_b }{ \\left \\| i_m \\right \\| \\left \\| i_b \\right \\| }\n",
    " = \\frac{ \\sum x_{a,m} x_{a,b} }{ \\sqrt{ \\sum x_{a,m}^2 \\sum x_{a,b}^2 } }\n",
    "$$\n",
    "\n",
    "The math is a bit intimidating, but the fundamental concept is relatively straightforward. Each of the possible items (openings) is a plane in N-dimensional space. High ratings contribute a lot of strength to the vector in that direction, low ratings contribute less, and null ratings contribute none at all. By taking the cosine of the angle formed between two of these crazy N-dimensional vectors, we get a \"distance\" that's between -1 and 1 (between 0 and 1 if the ratings are strictly positive)."
   ]
  },
  {
   "cell_type": "markdown",
   "metadata": {
    "_cell_guid": "6b8092de-8fda-49e6-8a49-bfcde0453a69",
    "_uuid": "b94173f4fa71092df666d232360a16c7d50406fe"
   },
   "source": [
    "### Executing the Model\n",
    "\n",
    "`sklearn` comes with a built-in cosine similarity metric as a part of the `metrics.pairwise.pairwise_distances` function. We will use that to generate an item-item cosine similarity matrix."
   ]
  },
  {
   "cell_type": "code",
   "execution_count": 12,
   "metadata": {
    "_cell_guid": "63b975b0-7d6e-4f8e-9e27-4ed3d1e4533a",
    "_uuid": "9e92fc436c16943f1c3caaef056a66ad6a13ac93",
    "collapsed": true
   },
   "outputs": [],
   "source": [
    "from sklearn.metrics.pairwise import pairwise_distances\n",
    "# user_similarity = pairwise_distances(train.fillna(0), metric='cosine')\n",
    "item_similarity = pairwise_distances(recommendations.T.fillna(0), metric='cosine')"
   ]
  },
  {
   "cell_type": "markdown",
   "metadata": {
    "_cell_guid": "906fa71c-1c3b-48fd-9002-ed401b6e8cf7",
    "_uuid": "a355e5cde8d8663e4aa7f3c2b5d319cefb996368"
   },
   "source": [
    "Now we have `item_similarity`, a big item-item similarity matrix that tells us how similar each of our 143 strategies is to every other strategy in our strategy set."
   ]
  },
  {
   "cell_type": "code",
   "execution_count": 13,
   "metadata": {
    "_cell_guid": "ad7c5e76-6e18-4c09-ae27-55a8950f0d9c",
    "_uuid": "ed3904e26d0e285c441489b00bd13db47f4c4d96",
    "collapsed": true
   },
   "outputs": [
    {
     "data": {
      "text/plain": [
       "(143, 143)"
      ]
     },
     "execution_count": 13,
     "metadata": {},
     "output_type": "execute_result"
    }
   ],
   "source": [
    "item_similarity.shape"
   ]
  },
  {
   "cell_type": "markdown",
   "metadata": {
    "_cell_guid": "687a3a1d-5eb2-4efc-9b36-cbc535f18efd",
    "_uuid": "40087cbaa6b49b0fa7224513db24fee4102e9f05"
   },
   "source": [
    "To generate predictions for our users, we take the **dot product** between this matrix and the user's rating matrix, and divide that by the sum of the similarity columns (to normalize). This nets us our predictions."
   ]
  },
  {
   "cell_type": "code",
   "execution_count": 14,
   "metadata": {
    "_cell_guid": "34b65350-bac4-4609-b901-bf296ebb62a6",
    "_uuid": "37171a6d70a81896ce3cfa33315fb91574006031",
    "collapsed": true
   },
   "outputs": [],
   "source": [
    "correction = np.array([np.abs(item_similarity).sum(axis=1)])\n",
    "item_predictions = recommendations.fillna(0).dot(item_similarity).apply(\n",
    "    lambda srs: srs / np.array([item_similarity.sum(axis=1)]).flatten(), axis='columns')"
   ]
  },
  {
   "cell_type": "code",
   "execution_count": 15,
   "metadata": {
    "_cell_guid": "51ada514-65a8-4da9-bc18-04da60d23b56",
    "_uuid": "fd24a75888e4f9fb79567d2f7264ae5a1fdb677e",
    "collapsed": true
   },
   "outputs": [
    {
     "data": {
      "text/html": [
       "<div>\n",
       "<style>\n",
       "    .dataframe thead tr:only-child th {\n",
       "        text-align: right;\n",
       "    }\n",
       "\n",
       "    .dataframe thead th {\n",
       "        text-align: left;\n",
       "    }\n",
       "\n",
       "    .dataframe tbody tr th {\n",
       "        vertical-align: top;\n",
       "    }\n",
       "</style>\n",
       "<table border=\"1\" class=\"dataframe\">\n",
       "  <thead>\n",
       "    <tr style=\"text-align: right;\">\n",
       "      <th></th>\n",
       "      <th>0</th>\n",
       "      <th>1</th>\n",
       "      <th>2</th>\n",
       "      <th>3</th>\n",
       "      <th>4</th>\n",
       "      <th>5</th>\n",
       "      <th>6</th>\n",
       "      <th>7</th>\n",
       "      <th>8</th>\n",
       "      <th>9</th>\n",
       "      <th>...</th>\n",
       "      <th>133</th>\n",
       "      <th>134</th>\n",
       "      <th>135</th>\n",
       "      <th>136</th>\n",
       "      <th>137</th>\n",
       "      <th>138</th>\n",
       "      <th>139</th>\n",
       "      <th>140</th>\n",
       "      <th>141</th>\n",
       "      <th>142</th>\n",
       "    </tr>\n",
       "    <tr>\n",
       "      <th>player_id</th>\n",
       "      <th></th>\n",
       "      <th></th>\n",
       "      <th></th>\n",
       "      <th></th>\n",
       "      <th></th>\n",
       "      <th></th>\n",
       "      <th></th>\n",
       "      <th></th>\n",
       "      <th></th>\n",
       "      <th></th>\n",
       "      <th></th>\n",
       "      <th></th>\n",
       "      <th></th>\n",
       "      <th></th>\n",
       "      <th></th>\n",
       "      <th></th>\n",
       "      <th></th>\n",
       "      <th></th>\n",
       "      <th></th>\n",
       "      <th></th>\n",
       "      <th></th>\n",
       "    </tr>\n",
       "  </thead>\n",
       "  <tbody>\n",
       "    <tr>\n",
       "      <th>--jim--</th>\n",
       "      <td>0.034214</td>\n",
       "      <td>0.035298</td>\n",
       "      <td>0.034367</td>\n",
       "      <td>0.035092</td>\n",
       "      <td>0.035176</td>\n",
       "      <td>0.035199</td>\n",
       "      <td>0.034965</td>\n",
       "      <td>0.035221</td>\n",
       "      <td>0.035357</td>\n",
       "      <td>0.035315</td>\n",
       "      <td>...</td>\n",
       "      <td>0.034979</td>\n",
       "      <td>0.035052</td>\n",
       "      <td>0.034727</td>\n",
       "      <td>0.034081</td>\n",
       "      <td>0.033884</td>\n",
       "      <td>0.035128</td>\n",
       "      <td>0.035023</td>\n",
       "      <td>0.034451</td>\n",
       "      <td>0.035011</td>\n",
       "      <td>0.033724</td>\n",
       "    </tr>\n",
       "    <tr>\n",
       "      <th>-0olo0-</th>\n",
       "      <td>0.034111</td>\n",
       "      <td>0.035145</td>\n",
       "      <td>0.034739</td>\n",
       "      <td>0.035220</td>\n",
       "      <td>0.035228</td>\n",
       "      <td>0.035018</td>\n",
       "      <td>0.035152</td>\n",
       "      <td>0.034636</td>\n",
       "      <td>0.035042</td>\n",
       "      <td>0.035240</td>\n",
       "      <td>...</td>\n",
       "      <td>0.034861</td>\n",
       "      <td>0.034196</td>\n",
       "      <td>0.034326</td>\n",
       "      <td>0.032170</td>\n",
       "      <td>0.034502</td>\n",
       "      <td>0.034975</td>\n",
       "      <td>0.035269</td>\n",
       "      <td>0.034994</td>\n",
       "      <td>0.035148</td>\n",
       "      <td>0.034251</td>\n",
       "    </tr>\n",
       "    <tr>\n",
       "      <th>-l-_jedi_knight_-l-</th>\n",
       "      <td>0.160214</td>\n",
       "      <td>0.162370</td>\n",
       "      <td>0.159469</td>\n",
       "      <td>0.161316</td>\n",
       "      <td>0.161615</td>\n",
       "      <td>0.161384</td>\n",
       "      <td>0.161451</td>\n",
       "      <td>0.162302</td>\n",
       "      <td>0.161885</td>\n",
       "      <td>0.162258</td>\n",
       "      <td>...</td>\n",
       "      <td>0.161831</td>\n",
       "      <td>0.161429</td>\n",
       "      <td>0.161212</td>\n",
       "      <td>0.158373</td>\n",
       "      <td>0.159964</td>\n",
       "      <td>0.161762</td>\n",
       "      <td>0.161252</td>\n",
       "      <td>0.161136</td>\n",
       "      <td>0.161900</td>\n",
       "      <td>0.158805</td>\n",
       "    </tr>\n",
       "    <tr>\n",
       "      <th>-mati-</th>\n",
       "      <td>0.035660</td>\n",
       "      <td>0.035462</td>\n",
       "      <td>0.035368</td>\n",
       "      <td>0.035475</td>\n",
       "      <td>0.034205</td>\n",
       "      <td>0.000000</td>\n",
       "      <td>0.035295</td>\n",
       "      <td>0.035344</td>\n",
       "      <td>0.035357</td>\n",
       "      <td>0.035315</td>\n",
       "      <td>...</td>\n",
       "      <td>0.035256</td>\n",
       "      <td>0.035238</td>\n",
       "      <td>0.035173</td>\n",
       "      <td>0.034849</td>\n",
       "      <td>0.035723</td>\n",
       "      <td>0.035260</td>\n",
       "      <td>0.035139</td>\n",
       "      <td>0.035552</td>\n",
       "      <td>0.035399</td>\n",
       "      <td>0.034542</td>\n",
       "    </tr>\n",
       "    <tr>\n",
       "      <th>-pavel-</th>\n",
       "      <td>0.034214</td>\n",
       "      <td>0.035298</td>\n",
       "      <td>0.034367</td>\n",
       "      <td>0.035092</td>\n",
       "      <td>0.035176</td>\n",
       "      <td>0.035199</td>\n",
       "      <td>0.034965</td>\n",
       "      <td>0.035221</td>\n",
       "      <td>0.035357</td>\n",
       "      <td>0.035315</td>\n",
       "      <td>...</td>\n",
       "      <td>0.034979</td>\n",
       "      <td>0.035052</td>\n",
       "      <td>0.034727</td>\n",
       "      <td>0.034081</td>\n",
       "      <td>0.033884</td>\n",
       "      <td>0.035128</td>\n",
       "      <td>0.035023</td>\n",
       "      <td>0.034451</td>\n",
       "      <td>0.035011</td>\n",
       "      <td>0.033724</td>\n",
       "    </tr>\n",
       "  </tbody>\n",
       "</table>\n",
       "<p>5 rows × 143 columns</p>\n",
       "</div>"
      ],
      "text/plain": [
       "                          0         1         2         3         4    \\\n",
       "player_id                                                               \n",
       "--jim--              0.034214  0.035298  0.034367  0.035092  0.035176   \n",
       "-0olo0-              0.034111  0.035145  0.034739  0.035220  0.035228   \n",
       "-l-_jedi_knight_-l-  0.160214  0.162370  0.159469  0.161316  0.161615   \n",
       "-mati-               0.035660  0.035462  0.035368  0.035475  0.034205   \n",
       "-pavel-              0.034214  0.035298  0.034367  0.035092  0.035176   \n",
       "\n",
       "                          5         6         7         8         9    \\\n",
       "player_id                                                               \n",
       "--jim--              0.035199  0.034965  0.035221  0.035357  0.035315   \n",
       "-0olo0-              0.035018  0.035152  0.034636  0.035042  0.035240   \n",
       "-l-_jedi_knight_-l-  0.161384  0.161451  0.162302  0.161885  0.162258   \n",
       "-mati-               0.000000  0.035295  0.035344  0.035357  0.035315   \n",
       "-pavel-              0.035199  0.034965  0.035221  0.035357  0.035315   \n",
       "\n",
       "                       ...          133       134       135       136  \\\n",
       "player_id              ...                                              \n",
       "--jim--                ...     0.034979  0.035052  0.034727  0.034081   \n",
       "-0olo0-                ...     0.034861  0.034196  0.034326  0.032170   \n",
       "-l-_jedi_knight_-l-    ...     0.161831  0.161429  0.161212  0.158373   \n",
       "-mati-                 ...     0.035256  0.035238  0.035173  0.034849   \n",
       "-pavel-                ...     0.034979  0.035052  0.034727  0.034081   \n",
       "\n",
       "                          137       138       139       140       141  \\\n",
       "player_id                                                               \n",
       "--jim--              0.033884  0.035128  0.035023  0.034451  0.035011   \n",
       "-0olo0-              0.034502  0.034975  0.035269  0.034994  0.035148   \n",
       "-l-_jedi_knight_-l-  0.159964  0.161762  0.161252  0.161136  0.161900   \n",
       "-mati-               0.035723  0.035260  0.035139  0.035552  0.035399   \n",
       "-pavel-              0.033884  0.035128  0.035023  0.034451  0.035011   \n",
       "\n",
       "                          142  \n",
       "player_id                      \n",
       "--jim--              0.033724  \n",
       "-0olo0-              0.034251  \n",
       "-l-_jedi_knight_-l-  0.158805  \n",
       "-mati-               0.034542  \n",
       "-pavel-              0.033724  \n",
       "\n",
       "[5 rows x 143 columns]"
      ]
     },
     "execution_count": 15,
     "metadata": {},
     "output_type": "execute_result"
    }
   ],
   "source": [
    "item_predictions.head()"
   ]
  },
  {
   "cell_type": "code",
   "execution_count": 16,
   "metadata": {
    "_cell_guid": "e45642b3-deae-47b4-9579-4dec32ccbcaa",
    "_uuid": "89ffe754a0e1bb5901d670b7d4ea54195af07984",
    "collapsed": true
   },
   "outputs": [
    {
     "data": {
      "text/plain": [
       "player_id\n",
       "--jim--                 25\n",
       "-0olo0-                129\n",
       "-l-_jedi_knight_-l-     56\n",
       "-mati-                 124\n",
       "-pavel-                 25\n",
       "dtype: int64"
      ]
     },
     "execution_count": 16,
     "metadata": {},
     "output_type": "execute_result"
    }
   ],
   "source": [
    "recommended_opening_numbers = item_predictions.apply(\n",
    "    lambda srs: np.argmax(srs.values), axis='columns'\n",
    ")\n",
    "recommended_opening_numbers.head()"
   ]
  },
  {
   "cell_type": "code",
   "execution_count": 17,
   "metadata": {
    "_cell_guid": "0f146622-8ac0-4186-b1c8-1a39196e11ed",
    "_uuid": "5417850348636ee7045a233c26f9643465d542da",
    "collapsed": true
   },
   "outputs": [],
   "source": [
    "opening_names = pd.Series(recommendations.columns)\n",
    "recommended_openings = recommended_opening_numbers.map(opening_names)"
   ]
  },
  {
   "cell_type": "markdown",
   "metadata": {
    "_cell_guid": "066cafb7-210a-4adf-af8c-473d6247385b",
    "_uuid": "e5a442a78693bd6c1d9a1af6a19e66b1d4b8d852"
   },
   "source": [
    "Which finally nets us our recommended openings!"
   ]
  },
  {
   "cell_type": "code",
   "execution_count": 18,
   "metadata": {
    "_cell_guid": "cbcc06a3-408f-4356-9ad5-47952df31213",
    "_uuid": "f27b250328ed9cf8f33344a90f08dcca40e15ea3",
    "collapsed": true
   },
   "outputs": [
    {
     "data": {
      "text/plain": [
       "player_id\n",
       "--jim--                Center Game Accepted\n",
       "-0olo0-                              System\n",
       "-l-_jedi_knight_-l-    Hippopotamus Defense\n",
       "-mati-                     Sicilian Defense\n",
       "-pavel-                Center Game Accepted\n",
       "dtype: object"
      ]
     },
     "execution_count": 18,
     "metadata": {},
     "output_type": "execute_result"
    }
   ],
   "source": [
    "recommended_openings.head()"
   ]
  },
  {
   "cell_type": "markdown",
   "metadata": {
    "_cell_guid": "2f5f3c3e-d433-4adb-8244-c9446a51dbf2",
    "_uuid": "c65c35cadcd18448a72667a91a0d7f61e2ee389c"
   },
   "source": [
    "### User Outcomes\n",
    "\n",
    "What openings does our simple classifier recommend most often?"
   ]
  },
  {
   "cell_type": "code",
   "execution_count": 19,
   "metadata": {
    "_cell_guid": "fb809c46-e837-4140-9abf-edb7663c2d0e",
    "_uuid": "f7db4de07234d49f8ba0e54f0b8b13580429fd9c",
    "collapsed": true
   },
   "outputs": [
    {
     "data": {
      "text/plain": [
       "<matplotlib.axes._subplots.AxesSubplot at 0x7f453bac6be0>"
      ]
     },
     "execution_count": 19,
     "metadata": {},
     "output_type": "execute_result"
    },
    {
     "data": {
      "image/png": "[encoded data removed]",
      "text/plain": [
       "<matplotlib.figure.Figure at 0x7f45aa011cc0>"
      ]
     },
     "metadata": {},
     "output_type": "display_data"
    }
   ],
   "source": [
    "recommended_openings.value_counts().head(20).iloc[1:].plot.bar(figsize=(24, 10), fontsize=22)"
   ]
  },
  {
   "cell_type": "markdown",
   "metadata": {
    "_cell_guid": "c8a8e1bc-b3d1-4a30-8d2d-58f222d36efa",
    "_uuid": "3fcdf9cb0286aef9d19b7fb83fa20c0ca67d6f21"
   },
   "source": [
    "It's important to note here that we are excluding `System`, which seems to function as more or less a default option. A chess system is an opening strategy where a player follows a set methodology for developing their pieces irrespective of what their opponent does. This doesn't strike me as being a very interesting recommendation, so I've excluded it from the results.\n",
    "\n",
    "Note that we can also take the second-best recommendation and use that instead in those cases."
   ]
  },
  {
   "cell_type": "markdown",
   "metadata": {
    "_cell_guid": "dc06ec57-4e23-4dbc-a63e-db56969b6501",
    "_uuid": "94e98bb8b3a6d8021af2240b965b8a074ed6c943"
   },
   "source": [
    "## Conclusions\n",
    "\n",
    "This notebook demonstrated building a simple implicit ratings collaborative filtering recommendation engine. While the little engine we built isn't terrifically good, it does demonstrate the key concepts behind building a neat little tool.\n",
    "\n",
    "Perhaps now you should try building an off-the-shelp recommendation engine using the [`surprise`](http://surprise.readthedocs.io/en/stable/getting_started.html#getting-started) package ([link](http://surprise.readthedocs.io/en/stable/getting_started.html#getting-started)), also available here on Kaggle!"
   ]
  },
  {
   "cell_type": "markdown",
   "metadata": {
    "_cell_guid": "e984ae5e-09bd-450a-a308-9d38b0bc6e17",
    "_uuid": "660025efbc4c21239510b390abb781acc5c29458"
   },
   "source": [
    "## Further Reading\n",
    "\n",
    "**Collaborative Filtering**\n",
    "* http://www.salemmarafi.com/code/collaborative-filtering-with-python/\n",
    "* http://tungwaiyip.info/2012/Collaborative%20Filtering.html\n",
    "* http://blog.ethanrosenthal.com/2015/11/02/intro-to-collaborative-filtering/\n",
    "* https://cambridgespark.com/content/tutorials/implementing-your-own-recommender-systems-in-Python/index.html#model-based-collaborative-filtering\n",
    "\n",
    "**Similar Notebooks**\n",
    "* https://www.kaggle.com/philippsp/book-recommender-collaborative-filtering-shiny &mdash; product focused, in R\n"
   ]
  }
 ],
 "metadata": {
  "kernelspec": {
   "display_name": "Python 3",
   "language": "python",
   "name": "python3"
  },
  "language_info": {
   "codemirror_mode": {
    "name": "ipython",
    "version": 3
   },
   "file_extension": ".py",
   "mimetype": "text/x-python",
   "name": "python",
   "nbconvert_exporter": "python",
   "pygments_lexer": "ipython3",
   "version": "3.6.1"
  }
 },
 "nbformat": 4,
 "nbformat_minor": 1
}
