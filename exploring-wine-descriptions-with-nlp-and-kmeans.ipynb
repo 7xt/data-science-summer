{
 "cells": [
  {
   "cell_type": "markdown",
   "metadata": {
    "_cell_guid": "58e81b09-e98b-4347-8208-df1984973a51",
    "_uuid": "386479c2f01b7865b7141675694ae79bc724aa6a"
   },
   "source": [
    "## Introduction\n",
    "\n",
    "This dataset is rich with wine description information so I was curious to see what common things were said in them. In this notebook I will try to find clusters or groups that represent 'average' descriptions. That is, I want to discover which words tend to appear together. From there, I am curious to see if there are certain wine variety descriptions more prevalent than others in each of the clusters. That way we can gain some insight on how some wine types are generally reported. I will do all of this by utilizing powerful Natural Language Processing algorithms and the kMeans unsupervised machine learning algorithm. I hope this notebook will be a good reference for people who want to learn more about these topics and how they're used. "
   ]
  },
  {
   "cell_type": "code",
   "execution_count": 1,
   "metadata": {
    "_cell_guid": "29c4fffb-c26a-484b-a311-9b9b21d556ee",
    "_uuid": "c595b764758d73415e54aaf9d59f1488d001c045",
    "collapsed": true
   },
   "outputs": [],
   "source": [
    "import numpy as np \n",
    "import pandas as pd \n",
    "import matplotlib.pyplot as plt\n",
    "import seaborn as sns\n",
    "from sklearn.feature_extraction import text\n",
    "from sklearn.feature_extraction.text import TfidfVectorizer\n",
    "from sklearn.cluster import KMeans\n",
    "from nltk.tokenize import RegexpTokenizer\n",
    "from nltk.stem.snowball import SnowballStemmer\n",
    "%matplotlib inline"
   ]
  },
  {
   "cell_type": "code",
   "execution_count": 2,
   "metadata": {
    "_cell_guid": "9a61a69c-43e9-4c4a-b6f8-d7ece8e7e71a",
    "_uuid": "551878dc5b1d0ee8bc127e0843c8332437108f46"
   },
   "outputs": [
    {
     "data": {
      "text/html": [
       "<div>\n",
       "<style>\n",
       "    .dataframe thead tr:only-child th {\n",
       "        text-align: right;\n",
       "    }\n",
       "\n",
       "    .dataframe thead th {\n",
       "        text-align: left;\n",
       "    }\n",
       "\n",
       "    .dataframe tbody tr th {\n",
       "        vertical-align: top;\n",
       "    }\n",
       "</style>\n",
       "<table border=\"1\" class=\"dataframe\">\n",
       "  <thead>\n",
       "    <tr style=\"text-align: right;\">\n",
       "      <th></th>\n",
       "      <th>Unnamed: 0</th>\n",
       "      <th>country</th>\n",
       "      <th>description</th>\n",
       "      <th>designation</th>\n",
       "      <th>points</th>\n",
       "      <th>price</th>\n",
       "      <th>province</th>\n",
       "      <th>region_1</th>\n",
       "      <th>region_2</th>\n",
       "      <th>variety</th>\n",
       "      <th>winery</th>\n",
       "    </tr>\n",
       "  </thead>\n",
       "  <tbody>\n",
       "    <tr>\n",
       "      <th>0</th>\n",
       "      <td>0</td>\n",
       "      <td>US</td>\n",
       "      <td>This tremendous 100% varietal wine hails from ...</td>\n",
       "      <td>Martha's Vineyard</td>\n",
       "      <td>96</td>\n",
       "      <td>235.0</td>\n",
       "      <td>California</td>\n",
       "      <td>Napa Valley</td>\n",
       "      <td>Napa</td>\n",
       "      <td>Cabernet Sauvignon</td>\n",
       "      <td>Heitz</td>\n",
       "    </tr>\n",
       "    <tr>\n",
       "      <th>1</th>\n",
       "      <td>1</td>\n",
       "      <td>Spain</td>\n",
       "      <td>Ripe aromas of fig, blackberry and cassis are ...</td>\n",
       "      <td>Carodorum Selección Especial Reserva</td>\n",
       "      <td>96</td>\n",
       "      <td>110.0</td>\n",
       "      <td>Northern Spain</td>\n",
       "      <td>Toro</td>\n",
       "      <td>NaN</td>\n",
       "      <td>Tinta de Toro</td>\n",
       "      <td>Bodega Carmen Rodríguez</td>\n",
       "    </tr>\n",
       "    <tr>\n",
       "      <th>2</th>\n",
       "      <td>2</td>\n",
       "      <td>US</td>\n",
       "      <td>Mac Watson honors the memory of a wine once ma...</td>\n",
       "      <td>Special Selected Late Harvest</td>\n",
       "      <td>96</td>\n",
       "      <td>90.0</td>\n",
       "      <td>California</td>\n",
       "      <td>Knights Valley</td>\n",
       "      <td>Sonoma</td>\n",
       "      <td>Sauvignon Blanc</td>\n",
       "      <td>Macauley</td>\n",
       "    </tr>\n",
       "    <tr>\n",
       "      <th>3</th>\n",
       "      <td>3</td>\n",
       "      <td>US</td>\n",
       "      <td>This spent 20 months in 30% new French oak, an...</td>\n",
       "      <td>Reserve</td>\n",
       "      <td>96</td>\n",
       "      <td>65.0</td>\n",
       "      <td>Oregon</td>\n",
       "      <td>Willamette Valley</td>\n",
       "      <td>Willamette Valley</td>\n",
       "      <td>Pinot Noir</td>\n",
       "      <td>Ponzi</td>\n",
       "    </tr>\n",
       "    <tr>\n",
       "      <th>4</th>\n",
       "      <td>4</td>\n",
       "      <td>France</td>\n",
       "      <td>This is the top wine from La Bégude, named aft...</td>\n",
       "      <td>La Brûlade</td>\n",
       "      <td>95</td>\n",
       "      <td>66.0</td>\n",
       "      <td>Provence</td>\n",
       "      <td>Bandol</td>\n",
       "      <td>NaN</td>\n",
       "      <td>Provence red blend</td>\n",
       "      <td>Domaine de la Bégude</td>\n",
       "    </tr>\n",
       "  </tbody>\n",
       "</table>\n",
       "</div>"
      ],
      "text/plain": [
       "   Unnamed: 0 country                                        description  \\\n",
       "0           0      US  This tremendous 100% varietal wine hails from ...   \n",
       "1           1   Spain  Ripe aromas of fig, blackberry and cassis are ...   \n",
       "2           2      US  Mac Watson honors the memory of a wine once ma...   \n",
       "3           3      US  This spent 20 months in 30% new French oak, an...   \n",
       "4           4  France  This is the top wine from La Bégude, named aft...   \n",
       "\n",
       "                            designation  points  price        province  \\\n",
       "0                     Martha's Vineyard      96  235.0      California   \n",
       "1  Carodorum Selección Especial Reserva      96  110.0  Northern Spain   \n",
       "2         Special Selected Late Harvest      96   90.0      California   \n",
       "3                               Reserve      96   65.0          Oregon   \n",
       "4                            La Brûlade      95   66.0        Provence   \n",
       "\n",
       "            region_1           region_2             variety  \\\n",
       "0        Napa Valley               Napa  Cabernet Sauvignon   \n",
       "1               Toro                NaN       Tinta de Toro   \n",
       "2     Knights Valley             Sonoma     Sauvignon Blanc   \n",
       "3  Willamette Valley  Willamette Valley          Pinot Noir   \n",
       "4             Bandol                NaN  Provence red blend   \n",
       "\n",
       "                    winery  \n",
       "0                    Heitz  \n",
       "1  Bodega Carmen Rodríguez  \n",
       "2                 Macauley  \n",
       "3                    Ponzi  \n",
       "4     Domaine de la Bégude  "
      ]
     },
     "execution_count": 2,
     "metadata": {},
     "output_type": "execute_result"
    }
   ],
   "source": [
    "winedf = pd.read_csv('../input/winemag-data_first150k.csv')\n",
    "winedf.head()"
   ]
  },
  {
   "cell_type": "markdown",
   "metadata": {
    "_cell_guid": "e2ed05d0-039f-4f19-b500-bb6b4222265d",
    "_uuid": "b0e7474f0a14c9bd75554ff0c1aba6b5a5baf894"
   },
   "source": [
    "## Exploratory Data Analysis\n",
    "\n",
    "The first check is to see where values are missing; the information in this file is for the most part complete. Luckily there isn't any data missing in the description and variety columns, which are the main columns I need for this analysis. There are 5 missing values for country that I originally filled in by looking at which winery was listed with these missing values, then looked up other entries with that same winery to determine country. I wanted to do this because I was thinking of exploring what words are used to describe wines from various countries but scratched this idea and decided to focus only on the different varieties. "
   ]
  },
  {
   "cell_type": "code",
   "execution_count": 3,
   "metadata": {
    "_cell_guid": "58a74dda-0534-4985-b9ff-7754d339998e",
    "_uuid": "d04b21d135b46d5b13b179f42a62ec2dc8526d5c"
   },
   "outputs": [
    {
     "name": "stdout",
     "output_type": "stream",
     "text": [
      "<class 'pandas.core.frame.DataFrame'>\n",
      "RangeIndex: 150930 entries, 0 to 150929\n",
      "Data columns (total 11 columns):\n",
      "Unnamed: 0     150930 non-null int64\n",
      "country        150925 non-null object\n",
      "description    150930 non-null object\n",
      "designation    105195 non-null object\n",
      "points         150930 non-null int64\n",
      "price          137235 non-null float64\n",
      "province       150925 non-null object\n",
      "region_1       125870 non-null object\n",
      "region_2       60953 non-null object\n",
      "variety        150930 non-null object\n",
      "winery         150930 non-null object\n",
      "dtypes: float64(1), int64(2), object(8)\n",
      "memory usage: 12.7+ MB\n"
     ]
    }
   ],
   "source": [
    "winedf.info()"
   ]
  },
  {
   "cell_type": "markdown",
   "metadata": {
    "_cell_guid": "ce612aa8-b8b6-4b87-a85b-ba0b4e5dcdef",
    "_uuid": "2dab67ac3795dcd8b7b2f06e7faf19c6ea034eee"
   },
   "source": [
    "As we can see, there are some duplicates with the descriptions. Although the duplicates won't affect the averaging used to find the kMeans centroids, I still decided to remove them because I only need  unique descriptions to perform the clustering. Note that dropping duplicates will still keep one of those entries in the set."
   ]
  },
  {
   "cell_type": "code",
   "execution_count": 4,
   "metadata": {
    "_cell_guid": "4d71f569-ceb1-45e1-9c10-780dbcea672a",
    "_uuid": "2a6b6078ebaf01bc84ac7a77cd5808626c6138be",
    "scrolled": false
   },
   "outputs": [
    {
     "data": {
      "text/html": [
       "<div>\n",
       "<style>\n",
       "    .dataframe thead tr:only-child th {\n",
       "        text-align: right;\n",
       "    }\n",
       "\n",
       "    .dataframe thead th {\n",
       "        text-align: left;\n",
       "    }\n",
       "\n",
       "    .dataframe tbody tr th {\n",
       "        vertical-align: top;\n",
       "    }\n",
       "</style>\n",
       "<table border=\"1\" class=\"dataframe\">\n",
       "  <thead>\n",
       "    <tr style=\"text-align: right;\">\n",
       "      <th></th>\n",
       "      <th>Unnamed: 0</th>\n",
       "      <th>country</th>\n",
       "      <th>description</th>\n",
       "      <th>designation</th>\n",
       "      <th>points</th>\n",
       "      <th>price</th>\n",
       "      <th>province</th>\n",
       "      <th>region_1</th>\n",
       "      <th>region_2</th>\n",
       "      <th>variety</th>\n",
       "      <th>winery</th>\n",
       "    </tr>\n",
       "  </thead>\n",
       "  <tbody>\n",
       "    <tr>\n",
       "      <th>147725</th>\n",
       "      <td>147725</td>\n",
       "      <td>Chile</td>\n",
       "      <td>$11. Opens with a highly perfumed bouquet of l...</td>\n",
       "      <td>Estate Reserve</td>\n",
       "      <td>84</td>\n",
       "      <td>11.0</td>\n",
       "      <td>Maipo Valley</td>\n",
       "      <td>NaN</td>\n",
       "      <td>NaN</td>\n",
       "      <td>Chardonnay</td>\n",
       "      <td>La Playa</td>\n",
       "    </tr>\n",
       "    <tr>\n",
       "      <th>62345</th>\n",
       "      <td>62345</td>\n",
       "      <td>Chile</td>\n",
       "      <td>$11. Opens with a highly perfumed bouquet of l...</td>\n",
       "      <td>Estate Reserve</td>\n",
       "      <td>84</td>\n",
       "      <td>11.0</td>\n",
       "      <td>Maipo Valley</td>\n",
       "      <td>NaN</td>\n",
       "      <td>NaN</td>\n",
       "      <td>Chardonnay</td>\n",
       "      <td>La Playa</td>\n",
       "    </tr>\n",
       "    <tr>\n",
       "      <th>74993</th>\n",
       "      <td>74993</td>\n",
       "      <td>US</td>\n",
       "      <td>). Very good wine from a winery increasingly k...</td>\n",
       "      <td>Rockpile Ridge Vineyard</td>\n",
       "      <td>92</td>\n",
       "      <td>47.0</td>\n",
       "      <td>California</td>\n",
       "      <td>Rockpile</td>\n",
       "      <td>Sonoma</td>\n",
       "      <td>Cabernet Sauvignon</td>\n",
       "      <td>Mauritson</td>\n",
       "    </tr>\n",
       "    <tr>\n",
       "      <th>18803</th>\n",
       "      <td>18803</td>\n",
       "      <td>US</td>\n",
       "      <td>). Very good wine from a winery increasingly k...</td>\n",
       "      <td>Rockpile Ridge Vineyard</td>\n",
       "      <td>92</td>\n",
       "      <td>47.0</td>\n",
       "      <td>California</td>\n",
       "      <td>Rockpile</td>\n",
       "      <td>Sonoma</td>\n",
       "      <td>Cabernet Sauvignon</td>\n",
       "      <td>Mauritson</td>\n",
       "    </tr>\n",
       "    <tr>\n",
       "      <th>26530</th>\n",
       "      <td>26530</td>\n",
       "      <td>Austria</td>\n",
       "      <td>. Christoph Neumeister's top wine, this is a c...</td>\n",
       "      <td>Moarfeitl</td>\n",
       "      <td>93</td>\n",
       "      <td>48.0</td>\n",
       "      <td>Südoststeiermark</td>\n",
       "      <td>NaN</td>\n",
       "      <td>NaN</td>\n",
       "      <td>Sauvignon Blanc</td>\n",
       "      <td>Neumeister</td>\n",
       "    </tr>\n",
       "    <tr>\n",
       "      <th>84730</th>\n",
       "      <td>84730</td>\n",
       "      <td>Austria</td>\n",
       "      <td>. Christoph Neumeister's top wine, this is a c...</td>\n",
       "      <td>Moarfeitl</td>\n",
       "      <td>93</td>\n",
       "      <td>48.0</td>\n",
       "      <td>Südoststeiermark</td>\n",
       "      <td>NaN</td>\n",
       "      <td>NaN</td>\n",
       "      <td>Sauvignon Blanc</td>\n",
       "      <td>Neumeister</td>\n",
       "    </tr>\n",
       "    <tr>\n",
       "      <th>53110</th>\n",
       "      <td>53110</td>\n",
       "      <td>Austria</td>\n",
       "      <td>. Christoph Neumeister's top wine, this is a c...</td>\n",
       "      <td>Moarfeitl</td>\n",
       "      <td>93</td>\n",
       "      <td>48.0</td>\n",
       "      <td>Südoststeiermark</td>\n",
       "      <td>NaN</td>\n",
       "      <td>NaN</td>\n",
       "      <td>Sauvignon Blanc</td>\n",
       "      <td>Neumeister</td>\n",
       "    </tr>\n",
       "    <tr>\n",
       "      <th>107351</th>\n",
       "      <td>107351</td>\n",
       "      <td>France</td>\n",
       "      <td>. From a small south-facing parcel next to the...</td>\n",
       "      <td>Trie Spéciale</td>\n",
       "      <td>91</td>\n",
       "      <td>38.0</td>\n",
       "      <td>Loire Valley</td>\n",
       "      <td>Savennières</td>\n",
       "      <td>NaN</td>\n",
       "      <td>Chenin Blanc</td>\n",
       "      <td>Domaine des Baumard</td>\n",
       "    </tr>\n",
       "  </tbody>\n",
       "</table>\n",
       "</div>"
      ],
      "text/plain": [
       "        Unnamed: 0  country  \\\n",
       "147725      147725    Chile   \n",
       "62345        62345    Chile   \n",
       "74993        74993       US   \n",
       "18803        18803       US   \n",
       "26530        26530  Austria   \n",
       "84730        84730  Austria   \n",
       "53110        53110  Austria   \n",
       "107351      107351   France   \n",
       "\n",
       "                                              description  \\\n",
       "147725  $11. Opens with a highly perfumed bouquet of l...   \n",
       "62345   $11. Opens with a highly perfumed bouquet of l...   \n",
       "74993   ). Very good wine from a winery increasingly k...   \n",
       "18803   ). Very good wine from a winery increasingly k...   \n",
       "26530   . Christoph Neumeister's top wine, this is a c...   \n",
       "84730   . Christoph Neumeister's top wine, this is a c...   \n",
       "53110   . Christoph Neumeister's top wine, this is a c...   \n",
       "107351  . From a small south-facing parcel next to the...   \n",
       "\n",
       "                    designation  points  price          province     region_1  \\\n",
       "147725           Estate Reserve      84   11.0      Maipo Valley          NaN   \n",
       "62345            Estate Reserve      84   11.0      Maipo Valley          NaN   \n",
       "74993   Rockpile Ridge Vineyard      92   47.0        California     Rockpile   \n",
       "18803   Rockpile Ridge Vineyard      92   47.0        California     Rockpile   \n",
       "26530                 Moarfeitl      93   48.0  Südoststeiermark          NaN   \n",
       "84730                 Moarfeitl      93   48.0  Südoststeiermark          NaN   \n",
       "53110                 Moarfeitl      93   48.0  Südoststeiermark          NaN   \n",
       "107351            Trie Spéciale      91   38.0      Loire Valley  Savennières   \n",
       "\n",
       "       region_2             variety               winery  \n",
       "147725      NaN          Chardonnay             La Playa  \n",
       "62345       NaN          Chardonnay             La Playa  \n",
       "74993    Sonoma  Cabernet Sauvignon            Mauritson  \n",
       "18803    Sonoma  Cabernet Sauvignon            Mauritson  \n",
       "26530       NaN     Sauvignon Blanc           Neumeister  \n",
       "84730       NaN     Sauvignon Blanc           Neumeister  \n",
       "53110       NaN     Sauvignon Blanc           Neumeister  \n",
       "107351      NaN        Chenin Blanc  Domaine des Baumard  "
      ]
     },
     "execution_count": 4,
     "metadata": {},
     "output_type": "execute_result"
    }
   ],
   "source": [
    "winedf[winedf['description'].duplicated(keep = False)].sort_values('description').head(8)"
   ]
  },
  {
   "cell_type": "code",
   "execution_count": 5,
   "metadata": {
    "_cell_guid": "d896e9a0-77cb-4a1f-83ff-bbc9f8a0fe76",
    "_uuid": "bea49b57b1cc4ab7641141d78a0d25d6df5f164c",
    "collapsed": true
   },
   "outputs": [],
   "source": [
    "winedf = winedf.drop_duplicates('description')"
   ]
  },
  {
   "cell_type": "markdown",
   "metadata": {
    "_cell_guid": "c8c6fa6e-e3e4-4485-a2db-c68e77c7bbfe",
    "_uuid": "51585bc37072cc182fcdba733688ba23e4490699"
   },
   "source": [
    "If we list out all the unique varieties in this dataset, we find that there are a TON of them here. However, with kMeans, I want to limit the number of wine varieties to the number of clusters because I'm hoping the algorithm will be able to find individual clusters or average descriptions for each type of wine. If I limit wine varieties to those where there are more than 1500 entries in the dataset, 15 types are narrowed down. Fifteen clusters sounds reasonable to start off with, so I will create a new dataframe and use descriptions only from these 15 kinds of wines. "
   ]
  },
  {
   "cell_type": "code",
   "execution_count": 6,
   "metadata": {
    "_cell_guid": "49dd4de7-76fc-4964-b591-0126820b31ea",
    "_uuid": "718ee039b181c54c5884bad4a17c9880fea11036"
   },
   "outputs": [
    {
     "data": {
      "image/png": "[encoded data removed]",
      "text/plain": [
       "<matplotlib.figure.Figure at 0x7fe23278bfd0>"
      ]
     },
     "metadata": {},
     "output_type": "display_data"
    }
   ],
   "source": [
    "variety_df = winedf.groupby('variety').filter(lambda x: len(x) > 1500)\n",
    "varieties = variety_df['variety'].value_counts().index.tolist()\n",
    "fig, ax = plt.subplots(figsize = (25, 10))\n",
    "sns.countplot(x = variety_df['variety'], order = varieties, ax = ax)\n",
    "plt.xticks(rotation = 90)\n",
    "plt.show()"
   ]
  },
  {
   "cell_type": "markdown",
   "metadata": {
    "_cell_guid": "63a9a6e0-4361-4e2b-8da7-b925bbc9dd34",
    "_uuid": "b1839bc7b121678d761634ea5bd9db663dbf2709"
   },
   "source": [
    "A more clear viewing of the 15 wine varieties - looks like some of the more popular wines are included! "
   ]
  },
  {
   "cell_type": "code",
   "execution_count": 7,
   "metadata": {
    "_cell_guid": "6e180e4c-6b08-4297-80c3-4b8956058e65",
    "_uuid": "4e28364e84cd0ab31874bf7c211383e195fbadb2"
   },
   "outputs": [
    {
     "data": {
      "text/plain": [
       "array(['Cabernet Sauvignon', 'Sauvignon Blanc', 'Pinot Noir',\n",
       "       'Chardonnay', 'Tempranillo', 'Malbec', 'Rosé', 'Syrah',\n",
       "       'Sangiovese', 'Red Blend', 'Riesling', 'White Blend', 'Zinfandel',\n",
       "       'Bordeaux-style Red Blend', 'Merlot'], dtype=object)"
      ]
     },
     "execution_count": 7,
     "metadata": {},
     "output_type": "execute_result"
    }
   ],
   "source": [
    "variety_df['variety'].unique()"
   ]
  },
  {
   "cell_type": "markdown",
   "metadata": {
    "_cell_guid": "bc91132f-e725-4064-ba1b-283a99a2885f",
    "_uuid": "f3a15354c9027f1c056d157fa40cc0ca64578ecc"
   },
   "source": [
    "## Natural Language Processing\n",
    "\n",
    "In Natural Language Processing, there is a term called stop words. These are tokens (NLP's definition for characters or groups of characters including words, punctuation, etc.) that are used frequently in the texts of the group of documents, or corpus, but don't really give much meaning or context to what they're being used in; they're generally used more for grammatical purposes. Examples of stop words are 'the', 'is', 'are', etc. There might be additional words that do not give much meaning to the text depending on what the situation is. I will discuss more stop words I could have used for this analysis in the conclusion but for now, I will use the English stop words list that is defaulted in the sklearn library in addition to some punctuation. When our text is being vectorized, the tokens included in the stop words list will not be included in the vectorization. Having stop words also helps us keep down the feature space.  \n",
    "\n",
    "To vectorize the tokens of each description, sklearn has a count vectorizer or tf-idf (term frequency-inverse document frequency) vectorizer object that will do all of this for us. The count vectorizer simply creates a vector of counts of each word in each description. The tf-idf vectorizer, on the otherhand, takes it further by creating frequency vectors that account for how important each token is relative to the document it is in AND relative to the corpus. A word might appear more than others in the same document, making it important to that piece of text. However, if that highly frequented word is in many of the other documents in the corpus, then that word does not really help distinguish that single document from the others. For this analysis, I have used the tf-idf vectorizer. "
   ]
  },
  {
   "cell_type": "code",
   "execution_count": 8,
   "metadata": {
    "_cell_guid": "912936bd-af54-471b-9e72-72b4fde0cd8e",
    "_uuid": "f0da5d280a2408faf3aa3a8c5b1cad80ecdaee7e",
    "collapsed": true
   },
   "outputs": [],
   "source": [
    "punc = ['.', ',', '\"', \"'\", '?', '!', ':', ';', '(', ')', '[', ']', '{', '}',\"%\"]\n",
    "stop_words = text.ENGLISH_STOP_WORDS.union(punc)\n",
    "desc = variety_df['description'].values\n",
    "vectorizer = TfidfVectorizer(stop_words = stop_words)\n",
    "X = vectorizer.fit_transform(desc)"
   ]
  },
  {
   "cell_type": "markdown",
   "metadata": {
    "_cell_guid": "80f4f283-2a8c-4886-bfa3-975e25f00c2e",
    "_uuid": "358d55d77e45ffbbb9eebdb495262b6dbf330e6b"
   },
   "source": [
    "Both the count vectorizer and tf-idf vectorizer in sklearn have a method called get_feature_names(). This returns a list of all the tokens in the corpus that were vectorized for each document (note that each document will not contain all of the words extracted from the entire group so the entries in their vectors will be 0 for these tokens). \n",
    "\n",
    "Below is a subset of the tokens that were vectorized. You can see that different forms of words show up in the list such as 'abrasive', 'abrasiveness', and 'absorb', 'absorbed', 'absorbs'. In many cases these different forms of the same word are redundant, and yes, you guessed right, unnecessarily extend our feature space. Sklearn's word vectorizers do not account for these unnecessary forms by default and that is why we see them in the list below. "
   ]
  },
  {
   "cell_type": "code",
   "execution_count": 9,
   "metadata": {
    "_cell_guid": "ce7de2b9-692e-40dd-b56b-0553a6050828",
    "_uuid": "00362d0ad6354929e5a5f4e4b15883fda4bee775"
   },
   "outputs": [
    {
     "data": {
      "text/plain": [
       "['aboard',\n",
       " 'abondante',\n",
       " 'abound',\n",
       " 'abounding',\n",
       " 'abounds',\n",
       " 'abouriou',\n",
       " 'abracadabra',\n",
       " 'abrasive',\n",
       " 'abrasiveness',\n",
       " 'abreu',\n",
       " 'abroad',\n",
       " 'abrupt',\n",
       " 'abruptly',\n",
       " 'abruzzi',\n",
       " 'abruzzo',\n",
       " 'absence',\n",
       " 'absent',\n",
       " 'absolute',\n",
       " 'absolutely',\n",
       " 'absorb',\n",
       " 'absorbed',\n",
       " 'absorbs',\n",
       " 'abstberg',\n",
       " 'absurd',\n",
       " 'abtsberg']"
      ]
     },
     "execution_count": 9,
     "metadata": {},
     "output_type": "execute_result"
    }
   ],
   "source": [
    "word_features = vectorizer.get_feature_names()\n",
    "word_features[550:575]"
   ]
  },
  {
   "cell_type": "markdown",
   "metadata": {
    "_cell_guid": "79c569ff-d3e3-44d8-ab1c-93244727727f",
    "_uuid": "44cb18fe2713df9a9820b214766047002a357f72"
   },
   "source": [
    "Fortunately the Natural Language Toolkit (NLTK) library provides many methods to stem/lemmatize, or reduce words to their root forms. Various stemmers and lemmatizers reduce these words to root forms differently because there might be cases where some forms do indeed produce different meanings. It's a bit overwhelming what NLTK provides but for now I am using the SnowballStemmer. It's definitely an area where I personally need to do more research on but again, it really comes down to what the situation is and what base forms you want. \n",
    "\n",
    "We can override the default settings to the tf-idfvectorizer by writting our own function that performs the stemming and any other text processing you want to execute. Here I have used regular expressions with another NLTK tokenizer that will further limit the tokens to vectorize. \n",
    "\n",
    "Regular expressions are a powerful tool in finding patterns in strings, which helps us find the tokens we want. I highly suggest learning more about them. I think this [resource](https://www.dataquest.io/blog/regular-expressions-data-scientists/?utm_source=Dataquest+Blog+Subscribers&utm_campaign=bc8792d6d9-EMAIL_CAMPAIGN_2017_12_20&utm_medium=email&utm_term=0_9436fa3dc8-bc8792d6d9-150779933) is a great starting point."
   ]
  },
  {
   "cell_type": "code",
   "execution_count": 10,
   "metadata": {
    "_cell_guid": "99c61544-8c35-4e3d-bb38-c44b29c892a1",
    "_uuid": "9f3f58d992ce97b14fe30f8e2dd8ed78d3e3cd7a",
    "collapsed": true
   },
   "outputs": [],
   "source": [
    "stemmer = SnowballStemmer('english')\n",
    "tokenizer = RegexpTokenizer(r'[a-zA-Z\\']+')\n",
    "\n",
    "def tokenize(text):\n",
    "    return [stemmer.stem(word) for word in tokenizer.tokenize(text.lower())]"
   ]
  },
  {
   "cell_type": "markdown",
   "metadata": {
    "_cell_guid": "9c90ff05-4dbb-4a2f-aa42-258d8ddd798f",
    "_uuid": "a680c3959d3670dbf37546e0a4d42b6232c7567d"
   },
   "source": [
    "After writing the function, I pass it through as an argument when instantiating the vectorizer. We can see that those repeated forms I mentioned above are now gone and only the root form is present thanks to the stemming we added :)"
   ]
  },
  {
   "cell_type": "code",
   "execution_count": 11,
   "metadata": {
    "_cell_guid": "e505e2b3-9033-4ad9-8bc6-a23d31e7d1d1",
    "_uuid": "af76cc246085439b4ef0616623892c73b08967f2",
    "scrolled": true
   },
   "outputs": [
    {
     "data": {
      "text/plain": [
       "[\"'s\",\n",
       " \"a'\",\n",
       " \"a'plenti\",\n",
       " 'aa',\n",
       " 'aah',\n",
       " 'aand',\n",
       " 'aaron',\n",
       " 'abacela',\n",
       " 'abad',\n",
       " 'abadia',\n",
       " 'abandon',\n",
       " 'abarbanel',\n",
       " 'abbacchio',\n",
       " 'abbay',\n",
       " 'abbey',\n",
       " 'abbinar',\n",
       " 'abboccato',\n",
       " 'abbott',\n",
       " 'abbrevi',\n",
       " 'abbuoto',\n",
       " 'abc',\n",
       " 'abeill',\n",
       " 'abeja',\n",
       " 'abernathi',\n",
       " 'aberr',\n",
       " 'abetina',\n",
       " 'abey',\n",
       " 'abil',\n",
       " 'abl',\n",
       " 'abli',\n",
       " 'abnorm',\n",
       " 'aboard',\n",
       " 'abondant',\n",
       " 'abound',\n",
       " 'abouriou',\n",
       " 'abov',\n",
       " 'abracadabra',\n",
       " 'abras',\n",
       " 'abreu',\n",
       " 'abroad',\n",
       " 'abrupt',\n",
       " 'abruzzi',\n",
       " 'abruzzo',\n",
       " 'absenc',\n",
       " 'absent',\n",
       " 'absolut',\n",
       " 'absorb',\n",
       " 'abstberg',\n",
       " 'absurd',\n",
       " 'abtsberg']"
      ]
     },
     "execution_count": 11,
     "metadata": {},
     "output_type": "execute_result"
    }
   ],
   "source": [
    "vectorizer2 = TfidfVectorizer(stop_words = stop_words, tokenizer = tokenize)\n",
    "X2 = vectorizer2.fit_transform(desc)\n",
    "word_features2 = vectorizer2.get_feature_names()\n",
    "word_features2[:50]"
   ]
  },
  {
   "cell_type": "markdown",
   "metadata": {
    "_cell_guid": "58e2f106-1b5b-4455-92a9-0f387af97835",
    "_uuid": "fb2eaa48e5affed47afd61029816e651aa5cfc44"
   },
   "source": [
    "So far I've adjusted the stop words, included stemming, and further limited our token feature space with regular expressions. Below, I take it one step further by adjusting the max_features parameter in the tf-idf vectorizer, which selects only the top max_features tokens ordered by their frequencies in the corpus to be included in the vectorizing. "
   ]
  },
  {
   "cell_type": "code",
   "execution_count": 12,
   "metadata": {
    "_cell_guid": "6f051184-fa0c-403f-bf86-ff9aa5ed01ed",
    "_uuid": "37c1fdf8b34deb8ec62f9ebf5338ad66ce13f9d7",
    "collapsed": true
   },
   "outputs": [],
   "source": [
    "vectorizer3 = TfidfVectorizer(stop_words = stop_words, tokenizer = tokenize, max_features = 1000)\n",
    "X3 = vectorizer3.fit_transform(desc)\n",
    "words = vectorizer3.get_feature_names()"
   ]
  },
  {
   "cell_type": "markdown",
   "metadata": {
    "_cell_guid": "1a6d241d-b365-45e2-9e3e-431f247afdc1",
    "_uuid": "d80464ed8770e41d5593acaa007a4746d487d5e6"
   },
   "source": [
    "## kMeans Clustering\n",
    "\n",
    "Now that the text preprocessing is done, I can finally apply the kMeans algorithm to cluster our description vectors. I won't list out all the steps to how the kMeans algorithm works but one thing to know is that in order for kMeans needs to initialize k centroids in order for it to start finding the k clusters. There are a few approaches to how the centroids are initilized but it typically involves some sort of randomization. Because of this randomness, the algorithm is not deterministic meaning that it might come up with different clusters if we run it multiple times. Therefore, it is wise to run the algorithm multiple times and have it choose the version that has the lowest within cluster variance, which I won't describe here. Luckily sklearn does this for us already with the n_init parameter. The default is 10 different centroid initializations and returns the best version but I lowered it to 5 so it would run faster.  "
   ]
  },
  {
   "cell_type": "code",
   "execution_count": 13,
   "metadata": {
    "_cell_guid": "0aa50625-c5e5-4968-80ea-c6e7272fb94a",
    "_uuid": "0e565d36c3844c0bb45a403b2ff975b454b2769a"
   },
   "outputs": [
    {
     "data": {
      "text/plain": [
       "KMeans(algorithm='auto', copy_x=True, init='k-means++', max_iter=300,\n",
       "    n_clusters=15, n_init=5, n_jobs=-1, precompute_distances='auto',\n",
       "    random_state=None, tol=0.0001, verbose=0)"
      ]
     },
     "execution_count": 13,
     "metadata": {},
     "output_type": "execute_result"
    }
   ],
   "source": [
    "kmeans = KMeans(n_clusters = 15, n_init = 5, n_jobs = -1)\n",
    "kmeans.fit(X3)"
   ]
  },
  {
   "cell_type": "markdown",
   "metadata": {
    "_cell_guid": "69dbf62a-ed76-4e78-a2c1-c7d461f14e47",
    "_uuid": "01c214b15401a6ca270f9729d3c7d451ce2bd99f"
   },
   "source": [
    "The model has a cluster centers attribute that returns the coordinates of each of the k cluster centroids. Each token in the vectorizer we created earlier has a dimension or coordinate in the centroid and represents its relative frequency within that cluster. So to find the words with the highest frequency in a cluster, we have to locate the indices of the highest values of the centroid, which then correspond to the indices of the tokens in the vectorizer. Below I find the indices of the top ten frequented words in each cluster and print these words out. \n",
    "\n",
    "Now we can see 15 groups of words that tend to be used with each other in our wine descriptions. Cluster 6, for example, seems to describe wines that are more citrusy and acidic. "
   ]
  },
  {
   "cell_type": "code",
   "execution_count": 14,
   "metadata": {
    "_cell_guid": "4704fdd2-dda2-4c06-b1ff-f49528641f82",
    "_uuid": "28c41a49f337dd8848c3bf59741ff365bc6aabf8"
   },
   "outputs": [
    {
     "name": "stdout",
     "output_type": "stream",
     "text": [
      "0 : berri, aroma, finish, plum, palat, flavor, feel, herbal, red, nose\n",
      "1 : blackberri, currant, dri, tannin, flavor, cherri, rich, oak, drink, wine\n",
      "2 : citrus, peach, finish, white, lemon, flavor, lime, palat, acid, wine\n",
      "3 : sampl, barrel, wine, tannin, fruit, ripe, wood, structur, juici, veri\n",
      "4 : appl, green, flavor, pear, finish, palat, citrus, wine, acid, aroma\n",
      "5 : wine, acid, fruiti, fresh, fruit, attract, drink, ripe, soft, red\n",
      "6 : light, fruit, wine, flavor, fresh, red, finish, cherri, acid, aroma\n",
      "7 : wine, fruit, cherri, flavor, finish, tannin, red, spice, berri, note\n",
      "8 : cabernet, sauvignon, blend, merlot, franc, petit, verdot, wine, syrah, cherri\n",
      "9 : pinot, noir, cherri, cola, silki, flavor, raspberri, dri, acid, drink\n",
      "10 : sweet, cherri, flavor, soft, simpl, tast, raspberri, like, candi, wine\n",
      "11 : black, cherri, palat, aroma, tannin, fruit, plum, pepper, dark, spice\n",
      "12 : chardonnay, pineappl, butter, oak, toast, flavor, vanilla, acid, rich, pear\n",
      "13 : wine, age, fruit, wood, structur, tannin, year, rich, firm, ripe\n",
      "14 : blanc, sauvignon, flavor, citrus, crisp, acid, green, lime, grapefruit, wine\n"
     ]
    }
   ],
   "source": [
    "common_words = kmeans.cluster_centers_.argsort()[:,-1:-11:-1]\n",
    "for num, centroid in enumerate(common_words):\n",
    "    print(str(num) + ' : ' + ', '.join(words[word] for word in centroid))"
   ]
  },
  {
   "cell_type": "markdown",
   "metadata": {
    "_cell_guid": "31088ca0-3d6f-45b7-8efc-52d199b4b423",
    "_uuid": "9505bb89c8159f56fd2bfe398fedce255922927a"
   },
   "source": [
    "Now I want to take a deeper look at each cluster. I want to see if there is one wine variation more prevalant than others in each of the clusters the kMeans algorithm found. \n",
    "\n",
    "Below I created a heatmap that maps out each of the 15 wine variations and their counts in each of the 15 clusters. It appears that Cabernet Sauvignon is very present in cluster 13, Chardonay in cluster 12, Pinot Noir in cluster 0, and Riesling in cluster 1. Zinfandel might be highly described by cluster 8 since there are a lot of entries for this type in this cluster relative to the total number of entries in the dataset. The words associated in these clusters were very common in desribing these wines. "
   ]
  },
  {
   "cell_type": "code",
   "execution_count": 15,
   "metadata": {
    "_cell_guid": "faf39204-fd88-452a-9f44-503bab0ef5a8",
    "_uuid": "c3af585c2d4cb3cf6883e52440ba9b161e52d908"
   },
   "outputs": [
    {
     "name": "stderr",
     "output_type": "stream",
     "text": [
      "/opt/conda/lib/python3.6/site-packages/ipykernel_launcher.py:1: SettingWithCopyWarning: \n",
      "A value is trying to be set on a copy of a slice from a DataFrame.\n",
      "Try using .loc[row_indexer,col_indexer] = value instead\n",
      "\n",
      "See the caveats in the documentation: http://pandas.pydata.org/pandas-docs/stable/indexing.html#indexing-view-versus-copy\n",
      "  \"\"\"Entry point for launching an IPython kernel.\n"
     ]
    }
   ],
   "source": [
    "variety_df['cluster'] = kmeans.labels_"
   ]
  },
  {
   "cell_type": "code",
   "execution_count": 16,
   "metadata": {
    "_cell_guid": "af2c201d-3748-4b04-8f5d-9d3772ec894f",
    "_uuid": "ca15631b5c2b58426501f1440ac93361c0fae4da"
   },
   "outputs": [
    {
     "data": {
      "image/png": "[encoded data removed]",
      "text/plain": [
       "<matplotlib.figure.Figure at 0x7fe22e665198>"
      ]
     },
     "metadata": {},
     "output_type": "display_data"
    }
   ],
   "source": [
    "clusters = variety_df.groupby(['cluster', 'variety']).size()\n",
    "fig2, ax2 = plt.subplots(figsize = (30, 15))\n",
    "sns.heatmap(clusters.unstack(level = 'variety'), ax = ax2, cmap = 'Reds')\n",
    "\n",
    "ax2.set_xlabel('variety', fontdict = {'weight': 'bold', 'size': 24})\n",
    "ax2.set_ylabel('cluster', fontdict = {'weight': 'bold', 'size': 24})\n",
    "for label in ax2.get_xticklabels():\n",
    "    label.set_size(16)\n",
    "    label.set_weight(\"bold\")\n",
    "for label in ax2.get_yticklabels():\n",
    "    label.set_size(16)\n",
    "    label.set_weight(\"bold\")"
   ]
  },
  {
   "cell_type": "markdown",
   "metadata": {
    "_cell_guid": "23dd06f0-f716-46fa-9a10-03b1bc10e485",
    "_uuid": "7886a1c49b2d56b92376fc052791e205855c1af7"
   },
   "source": [
    "## Conclusion\n",
    "\n",
    "Although kMeans didn't find a one-to-one relationship between each of the 15 wine types and clusters, we were still able to come up with clusters that greatly represented certain wines like Cabernet, Chardonay, Pinot Noir, and Riesling. This allows us to see how people are generally describing these kinds of wines, which is pretty cool! It might not have been the most useful in this case, but this type of analysis can definitely be done on other data involving reviews, etc. If we worked for a restaurant, we could determine what are some common things said in the reviews to help us know what we're doing right and what we're doing wrong so we can take action. \n",
    "\n",
    "Earlier I (annoyingly) brought up a couple times how what we add to our stop words list can depend on the situation. I didn't add any stop words for this analysis but after looking at the top 10 words in each cluster, I can think of at least a couple I could have included. For instance, the word 'flavor' appears in almost all of the clusters. I would say that this word doesn't give any useful information regarding the description so if I re-ran everything again, I would definitely add this to the stop words list. You also probably noticed that some of the descriptions actually had the wine name in them. I decided to keep these in because I was thinking that it would be easier to identify which words appeared more with certain wine varieties written in the description. The wine types can also be considered to be included in the stop words list. \n",
    "\n",
    "Another thing to play with is the hyperparameter k i.e. the number of clusters we want the algorithm to group. For this case, I had an idea that 15 groups would be ideal since I had 15 different kinds of wine. There are many situations, however, where you don't really have an idea of how many you should pick. 8 is the default with sklearn but another way to determine k is through the use of an elbow plot, which involves the within cluster variance I mentioned earlier. \n",
    "\n",
    "I'd like to consider with the dataset is using PCA to account for correlations in the token vectors. I would also like to learn more about the t-SNE unsupervised clustering algorithm so I might consider using this dataset to help me with that learning. \n",
    "\n",
    "LASTLY, it'd be interesting to see how well the multinomial Bayes classification algorithm would perform with this dataset to predict wine varieties, country location, etc., based off the descriptions. \n",
    "\n",
    "Please let me know if you have any thoughts or suggestions!! :D "
   ]
  },
  {
   "cell_type": "code",
   "execution_count": 17,
   "metadata": {
    "_cell_guid": "9d1c26d3-b812-47a7-a147-b46ca058f92b",
    "_uuid": "6c35681403d780eaab053ce32e326c8bc732a939",
    "collapsed": true
   },
   "outputs": [],
   "source": []
  }
 ],
 "metadata": {
  "kernelspec": {
   "display_name": "Python 3",
   "language": "python",
   "name": "python3"
  },
  "language_info": {
   "codemirror_mode": {
    "name": "ipython",
    "version": 3
   },
   "file_extension": ".py",
   "mimetype": "text/x-python",
   "name": "python",
   "nbconvert_exporter": "python",
   "pygments_lexer": "ipython3",
   "version": "3.6.4"
  }
 },
 "nbformat": 4,
 "nbformat_minor": 1
}
