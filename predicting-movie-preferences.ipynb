{
 "cells": [
  {
   "cell_type": "markdown",
   "metadata": {
    "papermill": {
     "duration": 0.022559,
     "end_time": "2020-09-28T17:41:56.141952",
     "exception": false,
     "start_time": "2020-09-28T17:41:56.119393",
     "status": "completed"
    },
    "tags": []
   },
   "source": [
    "# Task for Today  \n",
    "\n",
    "***\n",
    "\n",
    "## Movie Preference Prediction  \n",
    "\n",
    "Given *data about someone's personality*, let's try to classify **how strongly he/she will enjoy watching movies on a recommendation list**.  \n",
    "  \n",
    "We will use logistic regression, support vector machine, and neural network models to make our predictions."
   ]
  },
  {
   "cell_type": "markdown",
   "metadata": {
    "papermill": {
     "duration": 0.020844,
     "end_time": "2020-09-28T17:41:56.184721",
     "exception": false,
     "start_time": "2020-09-28T17:41:56.163877",
     "status": "completed"
    },
    "tags": []
   },
   "source": [
    "# Getting Started"
   ]
  },
  {
   "cell_type": "code",
   "execution_count": 1,
   "metadata": {
    "_cell_guid": "79c7e3d0-c299-4dcb-8224-4455121ee9b0",
    "_uuid": "d629ff2d2480ee46fbb7e2d37f6b5fab8052498a",
    "execution": {
     "iopub.execute_input": "2020-09-28T17:41:56.235666Z",
     "iopub.status.busy": "2020-09-28T17:41:56.234772Z",
     "iopub.status.idle": "2020-09-28T17:41:58.661947Z",
     "shell.execute_reply": "2020-09-28T17:41:58.661232Z"
    },
    "papermill": {
     "duration": 2.456225,
     "end_time": "2020-09-28T17:41:58.662112",
     "exception": false,
     "start_time": "2020-09-28T17:41:56.205887",
     "status": "completed"
    },
    "tags": []
   },
   "outputs": [],
   "source": [
    "import numpy as np\n",
    "import pandas as pd\n",
    "import plotly.express as px\n",
    "\n",
    "from sklearn.preprocessing import StandardScaler\n",
    "from sklearn.model_selection import train_test_split\n",
    "\n",
    "from sklearn.linear_model import LogisticRegression\n",
    "from sklearn.svm import SVC\n",
    "from sklearn.neural_network import MLPClassifier"
   ]
  },
  {
   "cell_type": "code",
   "execution_count": 2,
   "metadata": {
    "execution": {
     "iopub.execute_input": "2020-09-28T17:41:58.725540Z",
     "iopub.status.busy": "2020-09-28T17:41:58.724715Z",
     "iopub.status.idle": "2020-09-28T17:41:58.768831Z",
     "shell.execute_reply": "2020-09-28T17:41:58.767918Z"
    },
    "papermill": {
     "duration": 0.083586,
     "end_time": "2020-09-28T17:41:58.768977",
     "exception": false,
     "start_time": "2020-09-28T17:41:58.685391",
     "status": "completed"
    },
    "tags": []
   },
   "outputs": [],
   "source": [
    "data = pd.read_csv('../input/top-personality-dataset/2018-personality-data.csv')"
   ]
  },
  {
   "cell_type": "code",
   "execution_count": 3,
   "metadata": {
    "execution": {
     "iopub.execute_input": "2020-09-28T17:41:58.831521Z",
     "iopub.status.busy": "2020-09-28T17:41:58.828477Z",
     "iopub.status.idle": "2020-09-28T17:41:58.884421Z",
     "shell.execute_reply": "2020-09-28T17:41:58.885047Z"
    },
    "papermill": {
     "duration": 0.094631,
     "end_time": "2020-09-28T17:41:58.885212",
     "exception": false,
     "start_time": "2020-09-28T17:41:58.790581",
     "status": "completed"
    },
    "tags": []
   },
   "outputs": [
    {
     "data": {
      "text/html": [
       "<div>\n",
       "<style scoped>\n",
       "    .dataframe tbody tr th:only-of-type {\n",
       "        vertical-align: middle;\n",
       "    }\n",
       "\n",
       "    .dataframe tbody tr th {\n",
       "        vertical-align: top;\n",
       "    }\n",
       "\n",
       "    .dataframe thead th {\n",
       "        text-align: right;\n",
       "    }\n",
       "</style>\n",
       "<table border=\"1\" class=\"dataframe\">\n",
       "  <thead>\n",
       "    <tr style=\"text-align: right;\">\n",
       "      <th></th>\n",
       "      <th>userid</th>\n",
       "      <th>openness</th>\n",
       "      <th>agreeableness</th>\n",
       "      <th>emotional_stability</th>\n",
       "      <th>conscientiousness</th>\n",
       "      <th>extraversion</th>\n",
       "      <th>assigned metric</th>\n",
       "      <th>assigned condition</th>\n",
       "      <th>movie_1</th>\n",
       "      <th>predicted_rating_1</th>\n",
       "      <th>...</th>\n",
       "      <th>movie_9</th>\n",
       "      <th>predicted_rating_9</th>\n",
       "      <th>movie_10</th>\n",
       "      <th>predicted_rating_10</th>\n",
       "      <th>movie_11</th>\n",
       "      <th>predicted_rating_11</th>\n",
       "      <th>movie_12</th>\n",
       "      <th>predicted_rating_12</th>\n",
       "      <th>is_personalized</th>\n",
       "      <th>enjoy_watching</th>\n",
       "    </tr>\n",
       "  </thead>\n",
       "  <tbody>\n",
       "    <tr>\n",
       "      <th>0</th>\n",
       "      <td>8e7cebf9a234c064b75016249f2ac65e</td>\n",
       "      <td>5.0</td>\n",
       "      <td>2.0</td>\n",
       "      <td>3.0</td>\n",
       "      <td>2.5</td>\n",
       "      <td>6.5</td>\n",
       "      <td>serendipity</td>\n",
       "      <td>high</td>\n",
       "      <td>77658</td>\n",
       "      <td>4.410466</td>\n",
       "      <td>...</td>\n",
       "      <td>120138</td>\n",
       "      <td>4.244817</td>\n",
       "      <td>121372</td>\n",
       "      <td>4.396004</td>\n",
       "      <td>127152</td>\n",
       "      <td>4.120456</td>\n",
       "      <td>95311</td>\n",
       "      <td>4.053847</td>\n",
       "      <td>4</td>\n",
       "      <td>4</td>\n",
       "    </tr>\n",
       "    <tr>\n",
       "      <th>1</th>\n",
       "      <td>77c7d756a093150d4377720abeaeef76</td>\n",
       "      <td>7.0</td>\n",
       "      <td>4.0</td>\n",
       "      <td>6.0</td>\n",
       "      <td>5.5</td>\n",
       "      <td>4.0</td>\n",
       "      <td>all</td>\n",
       "      <td>default</td>\n",
       "      <td>94959</td>\n",
       "      <td>4.207280</td>\n",
       "      <td>...</td>\n",
       "      <td>56782</td>\n",
       "      <td>4.019599</td>\n",
       "      <td>5618</td>\n",
       "      <td>3.963953</td>\n",
       "      <td>969</td>\n",
       "      <td>4.174188</td>\n",
       "      <td>1232</td>\n",
       "      <td>4.334877</td>\n",
       "      <td>2</td>\n",
       "      <td>3</td>\n",
       "    </tr>\n",
       "    <tr>\n",
       "      <th>2</th>\n",
       "      <td>b7e8a92987a530cc368719a0e60e26a3</td>\n",
       "      <td>4.0</td>\n",
       "      <td>3.0</td>\n",
       "      <td>4.5</td>\n",
       "      <td>2.0</td>\n",
       "      <td>2.5</td>\n",
       "      <td>serendipity</td>\n",
       "      <td>medium</td>\n",
       "      <td>110501</td>\n",
       "      <td>4.868064</td>\n",
       "      <td>...</td>\n",
       "      <td>2288</td>\n",
       "      <td>4.823212</td>\n",
       "      <td>3307</td>\n",
       "      <td>4.676756</td>\n",
       "      <td>1172</td>\n",
       "      <td>4.649281</td>\n",
       "      <td>1212</td>\n",
       "      <td>4.744990</td>\n",
       "      <td>2</td>\n",
       "      <td>2</td>\n",
       "    </tr>\n",
       "    <tr>\n",
       "      <th>3</th>\n",
       "      <td>92561f21446e017dd6b68b94b23ad5b7</td>\n",
       "      <td>5.5</td>\n",
       "      <td>5.5</td>\n",
       "      <td>4.0</td>\n",
       "      <td>4.5</td>\n",
       "      <td>4.0</td>\n",
       "      <td>popularity</td>\n",
       "      <td>medium</td>\n",
       "      <td>2905</td>\n",
       "      <td>4.526371</td>\n",
       "      <td>...</td>\n",
       "      <td>3030</td>\n",
       "      <td>4.425689</td>\n",
       "      <td>1281</td>\n",
       "      <td>4.479921</td>\n",
       "      <td>940</td>\n",
       "      <td>4.355061</td>\n",
       "      <td>905</td>\n",
       "      <td>4.317927</td>\n",
       "      <td>3</td>\n",
       "      <td>3</td>\n",
       "    </tr>\n",
       "    <tr>\n",
       "      <th>4</th>\n",
       "      <td>030001ac2145a938b07e686a35a2d638</td>\n",
       "      <td>5.5</td>\n",
       "      <td>5.5</td>\n",
       "      <td>3.5</td>\n",
       "      <td>4.5</td>\n",
       "      <td>2.5</td>\n",
       "      <td>popularity</td>\n",
       "      <td>medium</td>\n",
       "      <td>2905</td>\n",
       "      <td>4.526371</td>\n",
       "      <td>...</td>\n",
       "      <td>3030</td>\n",
       "      <td>4.425689</td>\n",
       "      <td>1281</td>\n",
       "      <td>4.479921</td>\n",
       "      <td>940</td>\n",
       "      <td>4.355061</td>\n",
       "      <td>905</td>\n",
       "      <td>4.317927</td>\n",
       "      <td>2</td>\n",
       "      <td>3</td>\n",
       "    </tr>\n",
       "    <tr>\n",
       "      <th>...</th>\n",
       "      <td>...</td>\n",
       "      <td>...</td>\n",
       "      <td>...</td>\n",
       "      <td>...</td>\n",
       "      <td>...</td>\n",
       "      <td>...</td>\n",
       "      <td>...</td>\n",
       "      <td>...</td>\n",
       "      <td>...</td>\n",
       "      <td>...</td>\n",
       "      <td>...</td>\n",
       "      <td>...</td>\n",
       "      <td>...</td>\n",
       "      <td>...</td>\n",
       "      <td>...</td>\n",
       "      <td>...</td>\n",
       "      <td>...</td>\n",
       "      <td>...</td>\n",
       "      <td>...</td>\n",
       "      <td>...</td>\n",
       "      <td>...</td>\n",
       "    </tr>\n",
       "    <tr>\n",
       "      <th>1829</th>\n",
       "      <td>cff910b71f09b3120289ff6b461a9e03</td>\n",
       "      <td>5.5</td>\n",
       "      <td>3.5</td>\n",
       "      <td>2.5</td>\n",
       "      <td>4.0</td>\n",
       "      <td>5.5</td>\n",
       "      <td>popularity</td>\n",
       "      <td>low</td>\n",
       "      <td>108979</td>\n",
       "      <td>4.246346</td>\n",
       "      <td>...</td>\n",
       "      <td>6643</td>\n",
       "      <td>4.409108</td>\n",
       "      <td>115122</td>\n",
       "      <td>3.960470</td>\n",
       "      <td>7700</td>\n",
       "      <td>4.178546</td>\n",
       "      <td>67997</td>\n",
       "      <td>4.085300</td>\n",
       "      <td>3</td>\n",
       "      <td>3</td>\n",
       "    </tr>\n",
       "    <tr>\n",
       "      <th>1830</th>\n",
       "      <td>1ab3a4c2921d8da640854819b0f6cfce</td>\n",
       "      <td>4.0</td>\n",
       "      <td>3.5</td>\n",
       "      <td>4.5</td>\n",
       "      <td>4.0</td>\n",
       "      <td>2.5</td>\n",
       "      <td>serendipity</td>\n",
       "      <td>high</td>\n",
       "      <td>93040</td>\n",
       "      <td>4.227140</td>\n",
       "      <td>...</td>\n",
       "      <td>5618</td>\n",
       "      <td>4.149697</td>\n",
       "      <td>903</td>\n",
       "      <td>4.116152</td>\n",
       "      <td>38061</td>\n",
       "      <td>4.155210</td>\n",
       "      <td>1197</td>\n",
       "      <td>4.045751</td>\n",
       "      <td>3</td>\n",
       "      <td>4</td>\n",
       "    </tr>\n",
       "    <tr>\n",
       "      <th>1831</th>\n",
       "      <td>a06386edadf3bc614dadb7044708c46c</td>\n",
       "      <td>6.0</td>\n",
       "      <td>3.0</td>\n",
       "      <td>5.5</td>\n",
       "      <td>3.5</td>\n",
       "      <td>6.0</td>\n",
       "      <td>serendipity</td>\n",
       "      <td>low</td>\n",
       "      <td>106173</td>\n",
       "      <td>3.935297</td>\n",
       "      <td>...</td>\n",
       "      <td>26519</td>\n",
       "      <td>3.998642</td>\n",
       "      <td>89707</td>\n",
       "      <td>4.144870</td>\n",
       "      <td>2571</td>\n",
       "      <td>3.860041</td>\n",
       "      <td>108709</td>\n",
       "      <td>3.899857</td>\n",
       "      <td>3</td>\n",
       "      <td>4</td>\n",
       "    </tr>\n",
       "    <tr>\n",
       "      <th>1832</th>\n",
       "      <td>bad56d9506832cd79d874a6b66b3d813</td>\n",
       "      <td>5.0</td>\n",
       "      <td>3.5</td>\n",
       "      <td>1.5</td>\n",
       "      <td>3.5</td>\n",
       "      <td>2.5</td>\n",
       "      <td>serendipity</td>\n",
       "      <td>medium</td>\n",
       "      <td>6874</td>\n",
       "      <td>4.241766</td>\n",
       "      <td>...</td>\n",
       "      <td>92259</td>\n",
       "      <td>4.819710</td>\n",
       "      <td>32</td>\n",
       "      <td>4.059369</td>\n",
       "      <td>3730</td>\n",
       "      <td>4.427336</td>\n",
       "      <td>3435</td>\n",
       "      <td>4.844386</td>\n",
       "      <td>4</td>\n",
       "      <td>4</td>\n",
       "    </tr>\n",
       "    <tr>\n",
       "      <th>1833</th>\n",
       "      <td>721ea658e148fc0f76ddd6e2b0e02422</td>\n",
       "      <td>6.5</td>\n",
       "      <td>6.5</td>\n",
       "      <td>2.5</td>\n",
       "      <td>6.5</td>\n",
       "      <td>2.0</td>\n",
       "      <td>popularity</td>\n",
       "      <td>high</td>\n",
       "      <td>140737</td>\n",
       "      <td>4.456842</td>\n",
       "      <td>...</td>\n",
       "      <td>8360</td>\n",
       "      <td>4.247956</td>\n",
       "      <td>8961</td>\n",
       "      <td>4.321693</td>\n",
       "      <td>597</td>\n",
       "      <td>4.278465</td>\n",
       "      <td>457</td>\n",
       "      <td>4.352895</td>\n",
       "      <td>2</td>\n",
       "      <td>2</td>\n",
       "    </tr>\n",
       "  </tbody>\n",
       "</table>\n",
       "<p>1834 rows × 34 columns</p>\n",
       "</div>"
      ],
      "text/plain": [
       "                                userid   openness   agreeableness  \\\n",
       "0     8e7cebf9a234c064b75016249f2ac65e        5.0             2.0   \n",
       "1     77c7d756a093150d4377720abeaeef76        7.0             4.0   \n",
       "2     b7e8a92987a530cc368719a0e60e26a3        4.0             3.0   \n",
       "3     92561f21446e017dd6b68b94b23ad5b7        5.5             5.5   \n",
       "4     030001ac2145a938b07e686a35a2d638        5.5             5.5   \n",
       "...                                ...        ...             ...   \n",
       "1829  cff910b71f09b3120289ff6b461a9e03        5.5             3.5   \n",
       "1830  1ab3a4c2921d8da640854819b0f6cfce        4.0             3.5   \n",
       "1831  a06386edadf3bc614dadb7044708c46c        6.0             3.0   \n",
       "1832  bad56d9506832cd79d874a6b66b3d813        5.0             3.5   \n",
       "1833  721ea658e148fc0f76ddd6e2b0e02422        6.5             6.5   \n",
       "\n",
       "       emotional_stability   conscientiousness   extraversion  \\\n",
       "0                      3.0                 2.5            6.5   \n",
       "1                      6.0                 5.5            4.0   \n",
       "2                      4.5                 2.0            2.5   \n",
       "3                      4.0                 4.5            4.0   \n",
       "4                      3.5                 4.5            2.5   \n",
       "...                    ...                 ...            ...   \n",
       "1829                   2.5                 4.0            5.5   \n",
       "1830                   4.5                 4.0            2.5   \n",
       "1831                   5.5                 3.5            6.0   \n",
       "1832                   1.5                 3.5            2.5   \n",
       "1833                   2.5                 6.5            2.0   \n",
       "\n",
       "      assigned metric  assigned condition   movie_1   predicted_rating_1  ...  \\\n",
       "0         serendipity                high     77658             4.410466  ...   \n",
       "1                 all             default     94959             4.207280  ...   \n",
       "2         serendipity              medium    110501             4.868064  ...   \n",
       "3          popularity              medium      2905             4.526371  ...   \n",
       "4          popularity              medium      2905             4.526371  ...   \n",
       "...               ...                 ...       ...                  ...  ...   \n",
       "1829       popularity                 low    108979             4.246346  ...   \n",
       "1830      serendipity                high     93040             4.227140  ...   \n",
       "1831      serendipity                 low    106173             3.935297  ...   \n",
       "1832      serendipity              medium      6874             4.241766  ...   \n",
       "1833       popularity                high    140737             4.456842  ...   \n",
       "\n",
       "       movie_9   predicted_rating_9   movie_10   predicted_rating_10  \\\n",
       "0       120138             4.244817     121372              4.396004   \n",
       "1        56782             4.019599       5618              3.963953   \n",
       "2         2288             4.823212       3307              4.676756   \n",
       "3         3030             4.425689       1281              4.479921   \n",
       "4         3030             4.425689       1281              4.479921   \n",
       "...        ...                  ...        ...                   ...   \n",
       "1829      6643             4.409108     115122              3.960470   \n",
       "1830      5618             4.149697        903              4.116152   \n",
       "1831     26519             3.998642      89707              4.144870   \n",
       "1832     92259             4.819710         32              4.059369   \n",
       "1833      8360             4.247956       8961              4.321693   \n",
       "\n",
       "       movie_11   predicted_rating_11   movie_12   predicted_rating_12  \\\n",
       "0        127152              4.120456      95311              4.053847   \n",
       "1           969              4.174188       1232              4.334877   \n",
       "2          1172              4.649281       1212              4.744990   \n",
       "3           940              4.355061        905              4.317927   \n",
       "4           940              4.355061        905              4.317927   \n",
       "...         ...                   ...        ...                   ...   \n",
       "1829       7700              4.178546      67997              4.085300   \n",
       "1830      38061              4.155210       1197              4.045751   \n",
       "1831       2571              3.860041     108709              3.899857   \n",
       "1832       3730              4.427336       3435              4.844386   \n",
       "1833        597              4.278465        457              4.352895   \n",
       "\n",
       "       is_personalized   enjoy_watching   \n",
       "0                    4                 4  \n",
       "1                    2                 3  \n",
       "2                    2                 2  \n",
       "3                    3                 3  \n",
       "4                    2                 3  \n",
       "...                ...               ...  \n",
       "1829                 3                 3  \n",
       "1830                 3                 4  \n",
       "1831                 3                 4  \n",
       "1832                 4                 4  \n",
       "1833                 2                 2  \n",
       "\n",
       "[1834 rows x 34 columns]"
      ]
     },
     "execution_count": 3,
     "metadata": {},
     "output_type": "execute_result"
    }
   ],
   "source": [
    "data"
   ]
  },
  {
   "cell_type": "code",
   "execution_count": 4,
   "metadata": {
    "execution": {
     "iopub.execute_input": "2020-09-28T17:41:58.966124Z",
     "iopub.status.busy": "2020-09-28T17:41:58.964916Z",
     "iopub.status.idle": "2020-09-28T17:41:58.969800Z",
     "shell.execute_reply": "2020-09-28T17:41:58.970653Z"
    },
    "papermill": {
     "duration": 0.05979,
     "end_time": "2020-09-28T17:41:58.970872",
     "exception": false,
     "start_time": "2020-09-28T17:41:58.911082",
     "status": "completed"
    },
    "tags": []
   },
   "outputs": [
    {
     "name": "stdout",
     "output_type": "stream",
     "text": [
      "<class 'pandas.core.frame.DataFrame'>\n",
      "RangeIndex: 1834 entries, 0 to 1833\n",
      "Data columns (total 34 columns):\n",
      " #   Column                Non-Null Count  Dtype  \n",
      "---  ------                --------------  -----  \n",
      " 0   userid                1834 non-null   object \n",
      " 1    openness             1834 non-null   float64\n",
      " 2    agreeableness        1834 non-null   float64\n",
      " 3    emotional_stability  1834 non-null   float64\n",
      " 4    conscientiousness    1834 non-null   float64\n",
      " 5    extraversion         1834 non-null   float64\n",
      " 6    assigned metric      1834 non-null   object \n",
      " 7    assigned condition   1834 non-null   object \n",
      " 8    movie_1              1834 non-null   int64  \n",
      " 9    predicted_rating_1   1834 non-null   float64\n",
      " 10   movie_2              1834 non-null   int64  \n",
      " 11   predicted_rating_2   1834 non-null   float64\n",
      " 12   movie_3              1834 non-null   int64  \n",
      " 13   predicted_rating_3   1834 non-null   float64\n",
      " 14   movie_4              1834 non-null   int64  \n",
      " 15   predicted_rating_4   1834 non-null   float64\n",
      " 16   movie_5              1834 non-null   int64  \n",
      " 17   predicted_rating_5   1834 non-null   float64\n",
      " 18   movie_6              1834 non-null   int64  \n",
      " 19   predicted_rating_6   1834 non-null   float64\n",
      " 20   movie_7              1834 non-null   int64  \n",
      " 21   predicted_rating_7   1834 non-null   float64\n",
      " 22   movie_8              1834 non-null   int64  \n",
      " 23   predicted_rating_8   1834 non-null   float64\n",
      " 24   movie_9              1834 non-null   int64  \n",
      " 25   predicted_rating_9   1834 non-null   float64\n",
      " 26   movie_10             1834 non-null   int64  \n",
      " 27   predicted_rating_10  1834 non-null   float64\n",
      " 28   movie_11             1834 non-null   int64  \n",
      " 29   predicted_rating_11  1834 non-null   float64\n",
      " 30   movie_12             1834 non-null   int64  \n",
      " 31   predicted_rating_12  1834 non-null   float64\n",
      " 32   is_personalized      1834 non-null   int64  \n",
      " 33   enjoy_watching       1834 non-null   int64  \n",
      "dtypes: float64(17), int64(14), object(3)\n",
      "memory usage: 487.3+ KB\n"
     ]
    }
   ],
   "source": [
    "data.info()"
   ]
  },
  {
   "cell_type": "markdown",
   "metadata": {
    "papermill": {
     "duration": 0.030597,
     "end_time": "2020-09-28T17:41:59.033531",
     "exception": false,
     "start_time": "2020-09-28T17:41:59.002934",
     "status": "completed"
    },
    "tags": []
   },
   "source": [
    "# Preprocessing"
   ]
  },
  {
   "cell_type": "code",
   "execution_count": 5,
   "metadata": {
    "execution": {
     "iopub.execute_input": "2020-09-28T17:41:59.105396Z",
     "iopub.status.busy": "2020-09-28T17:41:59.104585Z",
     "iopub.status.idle": "2020-09-28T17:41:59.113658Z",
     "shell.execute_reply": "2020-09-28T17:41:59.112938Z"
    },
    "papermill": {
     "duration": 0.047462,
     "end_time": "2020-09-28T17:41:59.113806",
     "exception": false,
     "start_time": "2020-09-28T17:41:59.066344",
     "status": "completed"
    },
    "tags": []
   },
   "outputs": [
    {
     "data": {
      "text/plain": [
       "userid                  0\n",
       " openness               0\n",
       " agreeableness          0\n",
       " emotional_stability    0\n",
       " conscientiousness      0\n",
       " extraversion           0\n",
       " assigned metric        0\n",
       " assigned condition     0\n",
       " movie_1                0\n",
       " predicted_rating_1     0\n",
       " movie_2                0\n",
       " predicted_rating_2     0\n",
       " movie_3                0\n",
       " predicted_rating_3     0\n",
       " movie_4                0\n",
       " predicted_rating_4     0\n",
       " movie_5                0\n",
       " predicted_rating_5     0\n",
       " movie_6                0\n",
       " predicted_rating_6     0\n",
       " movie_7                0\n",
       " predicted_rating_7     0\n",
       " movie_8                0\n",
       " predicted_rating_8     0\n",
       " movie_9                0\n",
       " predicted_rating_9     0\n",
       " movie_10               0\n",
       " predicted_rating_10    0\n",
       " movie_11               0\n",
       " predicted_rating_11    0\n",
       " movie_12               0\n",
       " predicted_rating_12    0\n",
       " is_personalized        0\n",
       " enjoy_watching         0\n",
       "dtype: int64"
      ]
     },
     "execution_count": 5,
     "metadata": {},
     "output_type": "execute_result"
    }
   ],
   "source": [
    "data.isna().sum()"
   ]
  },
  {
   "cell_type": "code",
   "execution_count": 6,
   "metadata": {
    "execution": {
     "iopub.execute_input": "2020-09-28T17:41:59.169991Z",
     "iopub.status.busy": "2020-09-28T17:41:59.168972Z",
     "iopub.status.idle": "2020-09-28T17:41:59.174322Z",
     "shell.execute_reply": "2020-09-28T17:41:59.173589Z"
    },
    "papermill": {
     "duration": 0.036264,
     "end_time": "2020-09-28T17:41:59.174484",
     "exception": false,
     "start_time": "2020-09-28T17:41:59.138220",
     "status": "completed"
    },
    "tags": []
   },
   "outputs": [
    {
     "data": {
      "text/plain": [
       "Index(['userid', ' openness', ' agreeableness', ' emotional_stability',\n",
       "       ' conscientiousness', ' extraversion', ' assigned metric',\n",
       "       ' assigned condition', ' movie_1', ' predicted_rating_1', ' movie_2',\n",
       "       ' predicted_rating_2', ' movie_3', ' predicted_rating_3', ' movie_4',\n",
       "       ' predicted_rating_4', ' movie_5', ' predicted_rating_5', ' movie_6',\n",
       "       ' predicted_rating_6', ' movie_7', ' predicted_rating_7', ' movie_8',\n",
       "       ' predicted_rating_8', ' movie_9', ' predicted_rating_9', ' movie_10',\n",
       "       ' predicted_rating_10', ' movie_11', ' predicted_rating_11',\n",
       "       ' movie_12', ' predicted_rating_12', ' is_personalized',\n",
       "       ' enjoy_watching '],\n",
       "      dtype='object')"
      ]
     },
     "execution_count": 6,
     "metadata": {},
     "output_type": "execute_result"
    }
   ],
   "source": [
    "data.columns"
   ]
  },
  {
   "cell_type": "code",
   "execution_count": 7,
   "metadata": {
    "execution": {
     "iopub.execute_input": "2020-09-28T17:41:59.234633Z",
     "iopub.status.busy": "2020-09-28T17:41:59.233436Z",
     "iopub.status.idle": "2020-09-28T17:41:59.237274Z",
     "shell.execute_reply": "2020-09-28T17:41:59.236648Z"
    },
    "papermill": {
     "duration": 0.038245,
     "end_time": "2020-09-28T17:41:59.237441",
     "exception": false,
     "start_time": "2020-09-28T17:41:59.199196",
     "status": "completed"
    },
    "tags": []
   },
   "outputs": [],
   "source": [
    "data = data.drop(['userid',\n",
    "                  ' movie_1', ' predicted_rating_1',\n",
    "                  ' movie_2', ' predicted_rating_2',\n",
    "                  ' movie_3', ' predicted_rating_3',\n",
    "                  ' movie_4', ' predicted_rating_4',\n",
    "                  ' movie_5', ' predicted_rating_5',\n",
    "                  ' movie_6', ' predicted_rating_6',\n",
    "                  ' movie_7', ' predicted_rating_7',\n",
    "                  ' movie_8', ' predicted_rating_8',\n",
    "                  ' movie_9', ' predicted_rating_9',\n",
    "                  ' movie_10', ' predicted_rating_10',\n",
    "                  ' movie_11', ' predicted_rating_11',\n",
    "                  ' movie_12', ' predicted_rating_12',\n",
    "                  ], axis=1)"
   ]
  },
  {
   "cell_type": "code",
   "execution_count": 8,
   "metadata": {
    "execution": {
     "iopub.execute_input": "2020-09-28T17:41:59.311493Z",
     "iopub.status.busy": "2020-09-28T17:41:59.310614Z",
     "iopub.status.idle": "2020-09-28T17:41:59.316348Z",
     "shell.execute_reply": "2020-09-28T17:41:59.315746Z"
    },
    "papermill": {
     "duration": 0.05384,
     "end_time": "2020-09-28T17:41:59.316513",
     "exception": false,
     "start_time": "2020-09-28T17:41:59.262673",
     "status": "completed"
    },
    "tags": []
   },
   "outputs": [
    {
     "data": {
      "text/html": [
       "<div>\n",
       "<style scoped>\n",
       "    .dataframe tbody tr th:only-of-type {\n",
       "        vertical-align: middle;\n",
       "    }\n",
       "\n",
       "    .dataframe tbody tr th {\n",
       "        vertical-align: top;\n",
       "    }\n",
       "\n",
       "    .dataframe thead th {\n",
       "        text-align: right;\n",
       "    }\n",
       "</style>\n",
       "<table border=\"1\" class=\"dataframe\">\n",
       "  <thead>\n",
       "    <tr style=\"text-align: right;\">\n",
       "      <th></th>\n",
       "      <th>openness</th>\n",
       "      <th>agreeableness</th>\n",
       "      <th>emotional_stability</th>\n",
       "      <th>conscientiousness</th>\n",
       "      <th>extraversion</th>\n",
       "      <th>assigned metric</th>\n",
       "      <th>assigned condition</th>\n",
       "      <th>is_personalized</th>\n",
       "      <th>enjoy_watching</th>\n",
       "    </tr>\n",
       "  </thead>\n",
       "  <tbody>\n",
       "    <tr>\n",
       "      <th>0</th>\n",
       "      <td>5.0</td>\n",
       "      <td>2.0</td>\n",
       "      <td>3.0</td>\n",
       "      <td>2.5</td>\n",
       "      <td>6.5</td>\n",
       "      <td>serendipity</td>\n",
       "      <td>high</td>\n",
       "      <td>4</td>\n",
       "      <td>4</td>\n",
       "    </tr>\n",
       "    <tr>\n",
       "      <th>1</th>\n",
       "      <td>7.0</td>\n",
       "      <td>4.0</td>\n",
       "      <td>6.0</td>\n",
       "      <td>5.5</td>\n",
       "      <td>4.0</td>\n",
       "      <td>all</td>\n",
       "      <td>default</td>\n",
       "      <td>2</td>\n",
       "      <td>3</td>\n",
       "    </tr>\n",
       "    <tr>\n",
       "      <th>2</th>\n",
       "      <td>4.0</td>\n",
       "      <td>3.0</td>\n",
       "      <td>4.5</td>\n",
       "      <td>2.0</td>\n",
       "      <td>2.5</td>\n",
       "      <td>serendipity</td>\n",
       "      <td>medium</td>\n",
       "      <td>2</td>\n",
       "      <td>2</td>\n",
       "    </tr>\n",
       "    <tr>\n",
       "      <th>3</th>\n",
       "      <td>5.5</td>\n",
       "      <td>5.5</td>\n",
       "      <td>4.0</td>\n",
       "      <td>4.5</td>\n",
       "      <td>4.0</td>\n",
       "      <td>popularity</td>\n",
       "      <td>medium</td>\n",
       "      <td>3</td>\n",
       "      <td>3</td>\n",
       "    </tr>\n",
       "    <tr>\n",
       "      <th>4</th>\n",
       "      <td>5.5</td>\n",
       "      <td>5.5</td>\n",
       "      <td>3.5</td>\n",
       "      <td>4.5</td>\n",
       "      <td>2.5</td>\n",
       "      <td>popularity</td>\n",
       "      <td>medium</td>\n",
       "      <td>2</td>\n",
       "      <td>3</td>\n",
       "    </tr>\n",
       "    <tr>\n",
       "      <th>...</th>\n",
       "      <td>...</td>\n",
       "      <td>...</td>\n",
       "      <td>...</td>\n",
       "      <td>...</td>\n",
       "      <td>...</td>\n",
       "      <td>...</td>\n",
       "      <td>...</td>\n",
       "      <td>...</td>\n",
       "      <td>...</td>\n",
       "    </tr>\n",
       "    <tr>\n",
       "      <th>1829</th>\n",
       "      <td>5.5</td>\n",
       "      <td>3.5</td>\n",
       "      <td>2.5</td>\n",
       "      <td>4.0</td>\n",
       "      <td>5.5</td>\n",
       "      <td>popularity</td>\n",
       "      <td>low</td>\n",
       "      <td>3</td>\n",
       "      <td>3</td>\n",
       "    </tr>\n",
       "    <tr>\n",
       "      <th>1830</th>\n",
       "      <td>4.0</td>\n",
       "      <td>3.5</td>\n",
       "      <td>4.5</td>\n",
       "      <td>4.0</td>\n",
       "      <td>2.5</td>\n",
       "      <td>serendipity</td>\n",
       "      <td>high</td>\n",
       "      <td>3</td>\n",
       "      <td>4</td>\n",
       "    </tr>\n",
       "    <tr>\n",
       "      <th>1831</th>\n",
       "      <td>6.0</td>\n",
       "      <td>3.0</td>\n",
       "      <td>5.5</td>\n",
       "      <td>3.5</td>\n",
       "      <td>6.0</td>\n",
       "      <td>serendipity</td>\n",
       "      <td>low</td>\n",
       "      <td>3</td>\n",
       "      <td>4</td>\n",
       "    </tr>\n",
       "    <tr>\n",
       "      <th>1832</th>\n",
       "      <td>5.0</td>\n",
       "      <td>3.5</td>\n",
       "      <td>1.5</td>\n",
       "      <td>3.5</td>\n",
       "      <td>2.5</td>\n",
       "      <td>serendipity</td>\n",
       "      <td>medium</td>\n",
       "      <td>4</td>\n",
       "      <td>4</td>\n",
       "    </tr>\n",
       "    <tr>\n",
       "      <th>1833</th>\n",
       "      <td>6.5</td>\n",
       "      <td>6.5</td>\n",
       "      <td>2.5</td>\n",
       "      <td>6.5</td>\n",
       "      <td>2.0</td>\n",
       "      <td>popularity</td>\n",
       "      <td>high</td>\n",
       "      <td>2</td>\n",
       "      <td>2</td>\n",
       "    </tr>\n",
       "  </tbody>\n",
       "</table>\n",
       "<p>1834 rows × 9 columns</p>\n",
       "</div>"
      ],
      "text/plain": [
       "       openness   agreeableness   emotional_stability   conscientiousness  \\\n",
       "0           5.0             2.0                   3.0                 2.5   \n",
       "1           7.0             4.0                   6.0                 5.5   \n",
       "2           4.0             3.0                   4.5                 2.0   \n",
       "3           5.5             5.5                   4.0                 4.5   \n",
       "4           5.5             5.5                   3.5                 4.5   \n",
       "...         ...             ...                   ...                 ...   \n",
       "1829        5.5             3.5                   2.5                 4.0   \n",
       "1830        4.0             3.5                   4.5                 4.0   \n",
       "1831        6.0             3.0                   5.5                 3.5   \n",
       "1832        5.0             3.5                   1.5                 3.5   \n",
       "1833        6.5             6.5                   2.5                 6.5   \n",
       "\n",
       "       extraversion  assigned metric  assigned condition   is_personalized  \\\n",
       "0               6.5      serendipity                high                 4   \n",
       "1               4.0              all             default                 2   \n",
       "2               2.5      serendipity              medium                 2   \n",
       "3               4.0       popularity              medium                 3   \n",
       "4               2.5       popularity              medium                 2   \n",
       "...             ...              ...                 ...               ...   \n",
       "1829            5.5       popularity                 low                 3   \n",
       "1830            2.5      serendipity                high                 3   \n",
       "1831            6.0      serendipity                 low                 3   \n",
       "1832            2.5      serendipity              medium                 4   \n",
       "1833            2.0       popularity                high                 2   \n",
       "\n",
       "       enjoy_watching   \n",
       "0                    4  \n",
       "1                    3  \n",
       "2                    2  \n",
       "3                    3  \n",
       "4                    3  \n",
       "...                ...  \n",
       "1829                 3  \n",
       "1830                 4  \n",
       "1831                 4  \n",
       "1832                 4  \n",
       "1833                 2  \n",
       "\n",
       "[1834 rows x 9 columns]"
      ]
     },
     "execution_count": 8,
     "metadata": {},
     "output_type": "execute_result"
    }
   ],
   "source": [
    "data"
   ]
  },
  {
   "cell_type": "markdown",
   "metadata": {
    "papermill": {
     "duration": 0.025409,
     "end_time": "2020-09-28T17:41:59.367727",
     "exception": false,
     "start_time": "2020-09-28T17:41:59.342318",
     "status": "completed"
    },
    "tags": []
   },
   "source": [
    "## Encoding"
   ]
  },
  {
   "cell_type": "code",
   "execution_count": 9,
   "metadata": {
    "execution": {
     "iopub.execute_input": "2020-09-28T17:41:59.430062Z",
     "iopub.status.busy": "2020-09-28T17:41:59.427445Z",
     "iopub.status.idle": "2020-09-28T17:41:59.435485Z",
     "shell.execute_reply": "2020-09-28T17:41:59.434883Z"
    },
    "papermill": {
     "duration": 0.042048,
     "end_time": "2020-09-28T17:41:59.435624",
     "exception": false,
     "start_time": "2020-09-28T17:41:59.393576",
     "status": "completed"
    },
    "tags": []
   },
   "outputs": [
    {
     "data": {
      "text/plain": [
       "{' assigned metric': [' serendipity', ' all', ' popularity', ' diversity'],\n",
       " ' assigned condition': [' high', ' default', ' medium', ' low']}"
      ]
     },
     "execution_count": 9,
     "metadata": {},
     "output_type": "execute_result"
    }
   ],
   "source": [
    "{column: list(data[column].unique()) for column in data.columns if data.dtypes[column] == 'object'}"
   ]
  },
  {
   "cell_type": "code",
   "execution_count": 10,
   "metadata": {
    "execution": {
     "iopub.execute_input": "2020-09-28T17:41:59.497901Z",
     "iopub.status.busy": "2020-09-28T17:41:59.496775Z",
     "iopub.status.idle": "2020-09-28T17:41:59.501679Z",
     "shell.execute_reply": "2020-09-28T17:41:59.500877Z"
    },
    "papermill": {
     "duration": 0.039867,
     "end_time": "2020-09-28T17:41:59.501821",
     "exception": false,
     "start_time": "2020-09-28T17:41:59.461954",
     "status": "completed"
    },
    "tags": []
   },
   "outputs": [
    {
     "data": {
      "text/plain": [
       "0     high\n",
       "dtype: object"
      ]
     },
     "execution_count": 10,
     "metadata": {},
     "output_type": "execute_result"
    }
   ],
   "source": [
    "data[' assigned condition'].mode()"
   ]
  },
  {
   "cell_type": "code",
   "execution_count": 11,
   "metadata": {
    "execution": {
     "iopub.execute_input": "2020-09-28T17:41:59.562969Z",
     "iopub.status.busy": "2020-09-28T17:41:59.561924Z",
     "iopub.status.idle": "2020-09-28T17:41:59.566041Z",
     "shell.execute_reply": "2020-09-28T17:41:59.565214Z"
    },
    "papermill": {
     "duration": 0.037543,
     "end_time": "2020-09-28T17:41:59.566182",
     "exception": false,
     "start_time": "2020-09-28T17:41:59.528639",
     "status": "completed"
    },
    "tags": []
   },
   "outputs": [],
   "source": [
    "condition_ordering = [' low', ' medium', ' default', ' high']"
   ]
  },
  {
   "cell_type": "code",
   "execution_count": 12,
   "metadata": {
    "execution": {
     "iopub.execute_input": "2020-09-28T17:41:59.631100Z",
     "iopub.status.busy": "2020-09-28T17:41:59.630237Z",
     "iopub.status.idle": "2020-09-28T17:41:59.634129Z",
     "shell.execute_reply": "2020-09-28T17:41:59.633379Z"
    },
    "papermill": {
     "duration": 0.041037,
     "end_time": "2020-09-28T17:41:59.634254",
     "exception": false,
     "start_time": "2020-09-28T17:41:59.593217",
     "status": "completed"
    },
    "tags": []
   },
   "outputs": [],
   "source": [
    "def ordinal_encode(df, column, ordering):\n",
    "    df = df.copy()\n",
    "    df[column] = df[column].apply(lambda x: ordering.index(x))\n",
    "    return df\n",
    "\n",
    "def onehot_encode(df, column, prefix):\n",
    "    df = df.copy()\n",
    "    dummies = pd.get_dummies(df[column], prefix=prefix)\n",
    "    df = pd.concat([df, dummies], axis=1)\n",
    "    df = df.drop(column, axis=1)\n",
    "    return df"
   ]
  },
  {
   "cell_type": "code",
   "execution_count": 13,
   "metadata": {
    "execution": {
     "iopub.execute_input": "2020-09-28T17:41:59.700476Z",
     "iopub.status.busy": "2020-09-28T17:41:59.699309Z",
     "iopub.status.idle": "2020-09-28T17:41:59.708947Z",
     "shell.execute_reply": "2020-09-28T17:41:59.708232Z"
    },
    "papermill": {
     "duration": 0.047372,
     "end_time": "2020-09-28T17:41:59.709085",
     "exception": false,
     "start_time": "2020-09-28T17:41:59.661713",
     "status": "completed"
    },
    "tags": []
   },
   "outputs": [],
   "source": [
    "data = ordinal_encode(data, ' assigned condition', condition_ordering)\n",
    "data = onehot_encode(data, ' assigned metric', 'm')"
   ]
  },
  {
   "cell_type": "code",
   "execution_count": 14,
   "metadata": {
    "execution": {
     "iopub.execute_input": "2020-09-28T17:41:59.791680Z",
     "iopub.status.busy": "2020-09-28T17:41:59.790907Z",
     "iopub.status.idle": "2020-09-28T17:41:59.797042Z",
     "shell.execute_reply": "2020-09-28T17:41:59.796288Z"
    },
    "papermill": {
     "duration": 0.060227,
     "end_time": "2020-09-28T17:41:59.797200",
     "exception": false,
     "start_time": "2020-09-28T17:41:59.736973",
     "status": "completed"
    },
    "tags": []
   },
   "outputs": [
    {
     "data": {
      "text/html": [
       "<div>\n",
       "<style scoped>\n",
       "    .dataframe tbody tr th:only-of-type {\n",
       "        vertical-align: middle;\n",
       "    }\n",
       "\n",
       "    .dataframe tbody tr th {\n",
       "        vertical-align: top;\n",
       "    }\n",
       "\n",
       "    .dataframe thead th {\n",
       "        text-align: right;\n",
       "    }\n",
       "</style>\n",
       "<table border=\"1\" class=\"dataframe\">\n",
       "  <thead>\n",
       "    <tr style=\"text-align: right;\">\n",
       "      <th></th>\n",
       "      <th>openness</th>\n",
       "      <th>agreeableness</th>\n",
       "      <th>emotional_stability</th>\n",
       "      <th>conscientiousness</th>\n",
       "      <th>extraversion</th>\n",
       "      <th>assigned condition</th>\n",
       "      <th>is_personalized</th>\n",
       "      <th>enjoy_watching</th>\n",
       "      <th>m_ all</th>\n",
       "      <th>m_ diversity</th>\n",
       "      <th>m_ popularity</th>\n",
       "      <th>m_ serendipity</th>\n",
       "    </tr>\n",
       "  </thead>\n",
       "  <tbody>\n",
       "    <tr>\n",
       "      <th>0</th>\n",
       "      <td>5.0</td>\n",
       "      <td>2.0</td>\n",
       "      <td>3.0</td>\n",
       "      <td>2.5</td>\n",
       "      <td>6.5</td>\n",
       "      <td>3</td>\n",
       "      <td>4</td>\n",
       "      <td>4</td>\n",
       "      <td>0</td>\n",
       "      <td>0</td>\n",
       "      <td>0</td>\n",
       "      <td>1</td>\n",
       "    </tr>\n",
       "    <tr>\n",
       "      <th>1</th>\n",
       "      <td>7.0</td>\n",
       "      <td>4.0</td>\n",
       "      <td>6.0</td>\n",
       "      <td>5.5</td>\n",
       "      <td>4.0</td>\n",
       "      <td>2</td>\n",
       "      <td>2</td>\n",
       "      <td>3</td>\n",
       "      <td>1</td>\n",
       "      <td>0</td>\n",
       "      <td>0</td>\n",
       "      <td>0</td>\n",
       "    </tr>\n",
       "    <tr>\n",
       "      <th>2</th>\n",
       "      <td>4.0</td>\n",
       "      <td>3.0</td>\n",
       "      <td>4.5</td>\n",
       "      <td>2.0</td>\n",
       "      <td>2.5</td>\n",
       "      <td>1</td>\n",
       "      <td>2</td>\n",
       "      <td>2</td>\n",
       "      <td>0</td>\n",
       "      <td>0</td>\n",
       "      <td>0</td>\n",
       "      <td>1</td>\n",
       "    </tr>\n",
       "    <tr>\n",
       "      <th>3</th>\n",
       "      <td>5.5</td>\n",
       "      <td>5.5</td>\n",
       "      <td>4.0</td>\n",
       "      <td>4.5</td>\n",
       "      <td>4.0</td>\n",
       "      <td>1</td>\n",
       "      <td>3</td>\n",
       "      <td>3</td>\n",
       "      <td>0</td>\n",
       "      <td>0</td>\n",
       "      <td>1</td>\n",
       "      <td>0</td>\n",
       "    </tr>\n",
       "    <tr>\n",
       "      <th>4</th>\n",
       "      <td>5.5</td>\n",
       "      <td>5.5</td>\n",
       "      <td>3.5</td>\n",
       "      <td>4.5</td>\n",
       "      <td>2.5</td>\n",
       "      <td>1</td>\n",
       "      <td>2</td>\n",
       "      <td>3</td>\n",
       "      <td>0</td>\n",
       "      <td>0</td>\n",
       "      <td>1</td>\n",
       "      <td>0</td>\n",
       "    </tr>\n",
       "    <tr>\n",
       "      <th>...</th>\n",
       "      <td>...</td>\n",
       "      <td>...</td>\n",
       "      <td>...</td>\n",
       "      <td>...</td>\n",
       "      <td>...</td>\n",
       "      <td>...</td>\n",
       "      <td>...</td>\n",
       "      <td>...</td>\n",
       "      <td>...</td>\n",
       "      <td>...</td>\n",
       "      <td>...</td>\n",
       "      <td>...</td>\n",
       "    </tr>\n",
       "    <tr>\n",
       "      <th>1829</th>\n",
       "      <td>5.5</td>\n",
       "      <td>3.5</td>\n",
       "      <td>2.5</td>\n",
       "      <td>4.0</td>\n",
       "      <td>5.5</td>\n",
       "      <td>0</td>\n",
       "      <td>3</td>\n",
       "      <td>3</td>\n",
       "      <td>0</td>\n",
       "      <td>0</td>\n",
       "      <td>1</td>\n",
       "      <td>0</td>\n",
       "    </tr>\n",
       "    <tr>\n",
       "      <th>1830</th>\n",
       "      <td>4.0</td>\n",
       "      <td>3.5</td>\n",
       "      <td>4.5</td>\n",
       "      <td>4.0</td>\n",
       "      <td>2.5</td>\n",
       "      <td>3</td>\n",
       "      <td>3</td>\n",
       "      <td>4</td>\n",
       "      <td>0</td>\n",
       "      <td>0</td>\n",
       "      <td>0</td>\n",
       "      <td>1</td>\n",
       "    </tr>\n",
       "    <tr>\n",
       "      <th>1831</th>\n",
       "      <td>6.0</td>\n",
       "      <td>3.0</td>\n",
       "      <td>5.5</td>\n",
       "      <td>3.5</td>\n",
       "      <td>6.0</td>\n",
       "      <td>0</td>\n",
       "      <td>3</td>\n",
       "      <td>4</td>\n",
       "      <td>0</td>\n",
       "      <td>0</td>\n",
       "      <td>0</td>\n",
       "      <td>1</td>\n",
       "    </tr>\n",
       "    <tr>\n",
       "      <th>1832</th>\n",
       "      <td>5.0</td>\n",
       "      <td>3.5</td>\n",
       "      <td>1.5</td>\n",
       "      <td>3.5</td>\n",
       "      <td>2.5</td>\n",
       "      <td>1</td>\n",
       "      <td>4</td>\n",
       "      <td>4</td>\n",
       "      <td>0</td>\n",
       "      <td>0</td>\n",
       "      <td>0</td>\n",
       "      <td>1</td>\n",
       "    </tr>\n",
       "    <tr>\n",
       "      <th>1833</th>\n",
       "      <td>6.5</td>\n",
       "      <td>6.5</td>\n",
       "      <td>2.5</td>\n",
       "      <td>6.5</td>\n",
       "      <td>2.0</td>\n",
       "      <td>3</td>\n",
       "      <td>2</td>\n",
       "      <td>2</td>\n",
       "      <td>0</td>\n",
       "      <td>0</td>\n",
       "      <td>1</td>\n",
       "      <td>0</td>\n",
       "    </tr>\n",
       "  </tbody>\n",
       "</table>\n",
       "<p>1834 rows × 12 columns</p>\n",
       "</div>"
      ],
      "text/plain": [
       "       openness   agreeableness   emotional_stability   conscientiousness  \\\n",
       "0           5.0             2.0                   3.0                 2.5   \n",
       "1           7.0             4.0                   6.0                 5.5   \n",
       "2           4.0             3.0                   4.5                 2.0   \n",
       "3           5.5             5.5                   4.0                 4.5   \n",
       "4           5.5             5.5                   3.5                 4.5   \n",
       "...         ...             ...                   ...                 ...   \n",
       "1829        5.5             3.5                   2.5                 4.0   \n",
       "1830        4.0             3.5                   4.5                 4.0   \n",
       "1831        6.0             3.0                   5.5                 3.5   \n",
       "1832        5.0             3.5                   1.5                 3.5   \n",
       "1833        6.5             6.5                   2.5                 6.5   \n",
       "\n",
       "       extraversion   assigned condition   is_personalized   enjoy_watching   \\\n",
       "0               6.5                    3                 4                 4   \n",
       "1               4.0                    2                 2                 3   \n",
       "2               2.5                    1                 2                 2   \n",
       "3               4.0                    1                 3                 3   \n",
       "4               2.5                    1                 2                 3   \n",
       "...             ...                  ...               ...               ...   \n",
       "1829            5.5                    0                 3                 3   \n",
       "1830            2.5                    3                 3                 4   \n",
       "1831            6.0                    0                 3                 4   \n",
       "1832            2.5                    1                 4                 4   \n",
       "1833            2.0                    3                 2                 2   \n",
       "\n",
       "      m_ all  m_ diversity  m_ popularity  m_ serendipity  \n",
       "0          0             0              0               1  \n",
       "1          1             0              0               0  \n",
       "2          0             0              0               1  \n",
       "3          0             0              1               0  \n",
       "4          0             0              1               0  \n",
       "...      ...           ...            ...             ...  \n",
       "1829       0             0              1               0  \n",
       "1830       0             0              0               1  \n",
       "1831       0             0              0               1  \n",
       "1832       0             0              0               1  \n",
       "1833       0             0              1               0  \n",
       "\n",
       "[1834 rows x 12 columns]"
      ]
     },
     "execution_count": 14,
     "metadata": {},
     "output_type": "execute_result"
    }
   ],
   "source": [
    "data"
   ]
  },
  {
   "cell_type": "markdown",
   "metadata": {
    "papermill": {
     "duration": 0.028658,
     "end_time": "2020-09-28T17:41:59.855451",
     "exception": false,
     "start_time": "2020-09-28T17:41:59.826793",
     "status": "completed"
    },
    "tags": []
   },
   "source": [
    "## Splitting and Scaling"
   ]
  },
  {
   "cell_type": "code",
   "execution_count": 15,
   "metadata": {
    "execution": {
     "iopub.execute_input": "2020-09-28T17:41:59.921844Z",
     "iopub.status.busy": "2020-09-28T17:41:59.921012Z",
     "iopub.status.idle": "2020-09-28T17:41:59.925019Z",
     "shell.execute_reply": "2020-09-28T17:41:59.924387Z"
    },
    "papermill": {
     "duration": 0.040714,
     "end_time": "2020-09-28T17:41:59.925167",
     "exception": false,
     "start_time": "2020-09-28T17:41:59.884453",
     "status": "completed"
    },
    "tags": []
   },
   "outputs": [],
   "source": [
    "y = data[' enjoy_watching ']\n",
    "X = data.drop(' enjoy_watching ', axis=1)"
   ]
  },
  {
   "cell_type": "code",
   "execution_count": 16,
   "metadata": {
    "execution": {
     "iopub.execute_input": "2020-09-28T17:41:59.991989Z",
     "iopub.status.busy": "2020-09-28T17:41:59.990800Z",
     "iopub.status.idle": "2020-09-28T17:41:59.999578Z",
     "shell.execute_reply": "2020-09-28T17:41:59.998738Z"
    },
    "papermill": {
     "duration": 0.045516,
     "end_time": "2020-09-28T17:41:59.999725",
     "exception": false,
     "start_time": "2020-09-28T17:41:59.954209",
     "status": "completed"
    },
    "tags": []
   },
   "outputs": [],
   "source": [
    "scaler = StandardScaler()\n",
    "\n",
    "X = scaler.fit_transform(X)"
   ]
  },
  {
   "cell_type": "code",
   "execution_count": 17,
   "metadata": {
    "execution": {
     "iopub.execute_input": "2020-09-28T17:42:00.065351Z",
     "iopub.status.busy": "2020-09-28T17:42:00.064604Z",
     "iopub.status.idle": "2020-09-28T17:42:00.068783Z",
     "shell.execute_reply": "2020-09-28T17:42:00.067957Z"
    },
    "papermill": {
     "duration": 0.039809,
     "end_time": "2020-09-28T17:42:00.068928",
     "exception": false,
     "start_time": "2020-09-28T17:42:00.029119",
     "status": "completed"
    },
    "tags": []
   },
   "outputs": [],
   "source": [
    "X_train, X_test, y_train, y_test = train_test_split(X, y, train_size=0.7, random_state=42)"
   ]
  },
  {
   "cell_type": "markdown",
   "metadata": {
    "papermill": {
     "duration": 0.028757,
     "end_time": "2020-09-28T17:42:00.127232",
     "exception": false,
     "start_time": "2020-09-28T17:42:00.098475",
     "status": "completed"
    },
    "tags": []
   },
   "source": [
    "# Training"
   ]
  },
  {
   "cell_type": "code",
   "execution_count": 18,
   "metadata": {
    "execution": {
     "iopub.execute_input": "2020-09-28T17:42:00.194676Z",
     "iopub.status.busy": "2020-09-28T17:42:00.193899Z",
     "iopub.status.idle": "2020-09-28T17:42:01.435338Z",
     "shell.execute_reply": "2020-09-28T17:42:01.434474Z"
    },
    "papermill": {
     "duration": 1.279165,
     "end_time": "2020-09-28T17:42:01.435574",
     "exception": false,
     "start_time": "2020-09-28T17:42:00.156409",
     "status": "completed"
    },
    "tags": []
   },
   "outputs": [
    {
     "name": "stderr",
     "output_type": "stream",
     "text": [
      "/opt/conda/lib/python3.7/site-packages/sklearn/neural_network/_multilayer_perceptron.py:585: ConvergenceWarning: Stochastic Optimizer: Maximum iterations (200) reached and the optimization hasn't converged yet.\n",
      "  % self.max_iter, ConvergenceWarning)\n"
     ]
    }
   ],
   "source": [
    "log_model = LogisticRegression()\n",
    "svm_model = SVC(C=1.0)\n",
    "ann_model = MLPClassifier(hidden_layer_sizes=(16))\n",
    "\n",
    "log_model.fit(X_train, y_train)\n",
    "svm_model.fit(X_train, y_train)\n",
    "ann_model.fit(X_train, y_train)\n",
    "\n",
    "log_acc = log_model.score(X_test, y_test)\n",
    "svm_acc = svm_model.score(X_test, y_test)\n",
    "ann_acc = ann_model.score(X_test, y_test)"
   ]
  },
  {
   "cell_type": "markdown",
   "metadata": {
    "papermill": {
     "duration": 0.029859,
     "end_time": "2020-09-28T17:42:01.496741",
     "exception": false,
     "start_time": "2020-09-28T17:42:01.466882",
     "status": "completed"
    },
    "tags": []
   },
   "source": [
    "# Results"
   ]
  },
  {
   "cell_type": "code",
   "execution_count": 19,
   "metadata": {
    "execution": {
     "iopub.execute_input": "2020-09-28T17:42:01.565172Z",
     "iopub.status.busy": "2020-09-28T17:42:01.564217Z",
     "iopub.status.idle": "2020-09-28T17:42:02.856631Z",
     "shell.execute_reply": "2020-09-28T17:42:02.855820Z"
    },
    "papermill": {
     "duration": 1.330031,
     "end_time": "2020-09-28T17:42:02.856779",
     "exception": false,
     "start_time": "2020-09-28T17:42:01.526748",
     "status": "completed"
    },
    "tags": []
   },
   "outputs": [
    {
     "data": {
      "text/html": [
       "        <script type=\"text/javascript\">\n",
       "        window.PlotlyConfig = {MathJaxConfig: 'local'};\n",
       "        if (window.MathJax) {MathJax.Hub.Config({SVG: {font: \"STIX-Web\"}});}\n",
       "        if (typeof require !== 'undefined') {\n",
       "        require.undef(\"plotly\");\n",
       "        requirejs.config({\n",
       "            paths: {\n",
       "                'plotly': ['https://cdn.plot.ly/plotly-latest.min']\n",
       "            }\n",
       "        });\n",
       "        require(['plotly'], function(Plotly) {\n",
       "            window._Plotly = Plotly;\n",
       "        });\n",
       "        }\n",
       "        </script>\n",
       "        "
      ]
     },
     "metadata": {},
     "output_type": "display_data"
    },
    {
     "data": {
      "text/html": [
       "<div>                            <div id=\"bc5d837c-f2d5-4bfd-97e6-a5f0b8dedc84\" class=\"plotly-graph-div\" style=\"height:525px; width:100%;\"></div>            <script type=\"text/javascript\">                require([\"plotly\"], function(Plotly) {                    window.PLOTLYENV=window.PLOTLYENV || {};                                    if (document.getElementById(\"bc5d837c-f2d5-4bfd-97e6-a5f0b8dedc84\")) {                    Plotly.newPlot(                        \"bc5d837c-f2d5-4bfd-97e6-a5f0b8dedc84\",                        [{\"alignmentgroup\": \"True\", \"hovertemplate\": \"color=Logistic Regression<br>Model=%{x}<br>Accuracy=%{y}<extra></extra>\", \"legendgroup\": \"Logistic Regression\", \"marker\": {\"color\": \"#636efa\"}, \"name\": \"Logistic Regression\", \"offsetgroup\": \"Logistic Regression\", \"orientation\": \"v\", \"showlegend\": true, \"textposition\": \"auto\", \"type\": \"bar\", \"x\": [\"Logistic Regression\"], \"xaxis\": \"x\", \"y\": [0.5027223230490018], \"yaxis\": \"y\"}, {\"alignmentgroup\": \"True\", \"hovertemplate\": \"color=Support Vector Machine<br>Model=%{x}<br>Accuracy=%{y}<extra></extra>\", \"legendgroup\": \"Support Vector Machine\", \"marker\": {\"color\": \"#EF553B\"}, \"name\": \"Support Vector Machine\", \"offsetgroup\": \"Support Vector Machine\", \"orientation\": \"v\", \"showlegend\": true, \"textposition\": \"auto\", \"type\": \"bar\", \"x\": [\"Support Vector Machine\"], \"xaxis\": \"x\", \"y\": [0.484573502722323], \"yaxis\": \"y\"}, {\"alignmentgroup\": \"True\", \"hovertemplate\": \"color=Neural Network<br>Model=%{x}<br>Accuracy=%{y}<extra></extra>\", \"legendgroup\": \"Neural Network\", \"marker\": {\"color\": \"#00cc96\"}, \"name\": \"Neural Network\", \"offsetgroup\": \"Neural Network\", \"orientation\": \"v\", \"showlegend\": true, \"textposition\": \"auto\", \"type\": \"bar\", \"x\": [\"Neural Network\"], \"xaxis\": \"x\", \"y\": [0.4827586206896552], \"yaxis\": \"y\"}],                        {\"barmode\": \"relative\", \"legend\": {\"title\": {\"text\": \"color\"}, \"tracegroupgap\": 0}, \"template\": {\"data\": {\"bar\": [{\"error_x\": {\"color\": \"#2a3f5f\"}, \"error_y\": {\"color\": \"#2a3f5f\"}, \"marker\": {\"line\": {\"color\": \"#E5ECF6\", \"width\": 0.5}}, \"type\": \"bar\"}], \"barpolar\": [{\"marker\": {\"line\": {\"color\": \"#E5ECF6\", \"width\": 0.5}}, \"type\": \"barpolar\"}], \"carpet\": [{\"aaxis\": {\"endlinecolor\": \"#2a3f5f\", \"gridcolor\": \"white\", \"linecolor\": \"white\", \"minorgridcolor\": \"white\", \"startlinecolor\": \"#2a3f5f\"}, \"baxis\": {\"endlinecolor\": \"#2a3f5f\", \"gridcolor\": \"white\", \"linecolor\": \"white\", \"minorgridcolor\": \"white\", \"startlinecolor\": \"#2a3f5f\"}, \"type\": \"carpet\"}], \"choropleth\": [{\"colorbar\": {\"outlinewidth\": 0, \"ticks\": \"\"}, \"type\": \"choropleth\"}], \"contour\": [{\"colorbar\": {\"outlinewidth\": 0, \"ticks\": \"\"}, \"colorscale\": [[0.0, \"#0d0887\"], [0.1111111111111111, \"#46039f\"], [0.2222222222222222, \"#7201a8\"], [0.3333333333333333, \"#9c179e\"], [0.4444444444444444, \"#bd3786\"], [0.5555555555555556, \"#d8576b\"], [0.6666666666666666, \"#ed7953\"], [0.7777777777777778, \"#fb9f3a\"], [0.8888888888888888, \"#fdca26\"], [1.0, \"#f0f921\"]], \"type\": \"contour\"}], \"contourcarpet\": [{\"colorbar\": {\"outlinewidth\": 0, \"ticks\": \"\"}, \"type\": \"contourcarpet\"}], \"heatmap\": [{\"colorbar\": {\"outlinewidth\": 0, \"ticks\": \"\"}, \"colorscale\": [[0.0, \"#0d0887\"], [0.1111111111111111, \"#46039f\"], [0.2222222222222222, \"#7201a8\"], [0.3333333333333333, \"#9c179e\"], [0.4444444444444444, \"#bd3786\"], [0.5555555555555556, \"#d8576b\"], [0.6666666666666666, \"#ed7953\"], [0.7777777777777778, \"#fb9f3a\"], [0.8888888888888888, \"#fdca26\"], [1.0, \"#f0f921\"]], \"type\": \"heatmap\"}], \"heatmapgl\": [{\"colorbar\": {\"outlinewidth\": 0, \"ticks\": \"\"}, \"colorscale\": [[0.0, \"#0d0887\"], [0.1111111111111111, \"#46039f\"], [0.2222222222222222, \"#7201a8\"], [0.3333333333333333, \"#9c179e\"], [0.4444444444444444, \"#bd3786\"], [0.5555555555555556, \"#d8576b\"], [0.6666666666666666, \"#ed7953\"], [0.7777777777777778, \"#fb9f3a\"], [0.8888888888888888, \"#fdca26\"], [1.0, \"#f0f921\"]], \"type\": \"heatmapgl\"}], \"histogram\": [{\"marker\": {\"colorbar\": {\"outlinewidth\": 0, \"ticks\": \"\"}}, \"type\": \"histogram\"}], \"histogram2d\": [{\"colorbar\": {\"outlinewidth\": 0, \"ticks\": \"\"}, \"colorscale\": [[0.0, \"#0d0887\"], [0.1111111111111111, \"#46039f\"], [0.2222222222222222, \"#7201a8\"], [0.3333333333333333, \"#9c179e\"], [0.4444444444444444, \"#bd3786\"], [0.5555555555555556, \"#d8576b\"], [0.6666666666666666, \"#ed7953\"], [0.7777777777777778, \"#fb9f3a\"], [0.8888888888888888, \"#fdca26\"], [1.0, \"#f0f921\"]], \"type\": \"histogram2d\"}], \"histogram2dcontour\": [{\"colorbar\": {\"outlinewidth\": 0, \"ticks\": \"\"}, \"colorscale\": [[0.0, \"#0d0887\"], [0.1111111111111111, \"#46039f\"], [0.2222222222222222, \"#7201a8\"], [0.3333333333333333, \"#9c179e\"], [0.4444444444444444, \"#bd3786\"], [0.5555555555555556, \"#d8576b\"], [0.6666666666666666, \"#ed7953\"], [0.7777777777777778, \"#fb9f3a\"], [0.8888888888888888, \"#fdca26\"], [1.0, \"#f0f921\"]], \"type\": \"histogram2dcontour\"}], \"mesh3d\": [{\"colorbar\": {\"outlinewidth\": 0, \"ticks\": \"\"}, \"type\": \"mesh3d\"}], \"parcoords\": [{\"line\": {\"colorbar\": {\"outlinewidth\": 0, \"ticks\": \"\"}}, \"type\": \"parcoords\"}], \"pie\": [{\"automargin\": true, \"type\": \"pie\"}], \"scatter\": [{\"marker\": {\"colorbar\": {\"outlinewidth\": 0, \"ticks\": \"\"}}, \"type\": \"scatter\"}], \"scatter3d\": [{\"line\": {\"colorbar\": {\"outlinewidth\": 0, \"ticks\": \"\"}}, \"marker\": {\"colorbar\": {\"outlinewidth\": 0, \"ticks\": \"\"}}, \"type\": \"scatter3d\"}], \"scattercarpet\": [{\"marker\": {\"colorbar\": {\"outlinewidth\": 0, \"ticks\": \"\"}}, \"type\": \"scattercarpet\"}], \"scattergeo\": [{\"marker\": {\"colorbar\": {\"outlinewidth\": 0, \"ticks\": \"\"}}, \"type\": \"scattergeo\"}], \"scattergl\": [{\"marker\": {\"colorbar\": {\"outlinewidth\": 0, \"ticks\": \"\"}}, \"type\": \"scattergl\"}], \"scattermapbox\": [{\"marker\": {\"colorbar\": {\"outlinewidth\": 0, \"ticks\": \"\"}}, \"type\": \"scattermapbox\"}], \"scatterpolar\": [{\"marker\": {\"colorbar\": {\"outlinewidth\": 0, \"ticks\": \"\"}}, \"type\": \"scatterpolar\"}], \"scatterpolargl\": [{\"marker\": {\"colorbar\": {\"outlinewidth\": 0, \"ticks\": \"\"}}, \"type\": \"scatterpolargl\"}], \"scatterternary\": [{\"marker\": {\"colorbar\": {\"outlinewidth\": 0, \"ticks\": \"\"}}, \"type\": \"scatterternary\"}], \"surface\": [{\"colorbar\": {\"outlinewidth\": 0, \"ticks\": \"\"}, \"colorscale\": [[0.0, \"#0d0887\"], [0.1111111111111111, \"#46039f\"], [0.2222222222222222, \"#7201a8\"], [0.3333333333333333, \"#9c179e\"], [0.4444444444444444, \"#bd3786\"], [0.5555555555555556, \"#d8576b\"], [0.6666666666666666, \"#ed7953\"], [0.7777777777777778, \"#fb9f3a\"], [0.8888888888888888, \"#fdca26\"], [1.0, \"#f0f921\"]], \"type\": \"surface\"}], \"table\": [{\"cells\": {\"fill\": {\"color\": \"#EBF0F8\"}, \"line\": {\"color\": \"white\"}}, \"header\": {\"fill\": {\"color\": \"#C8D4E3\"}, \"line\": {\"color\": \"white\"}}, \"type\": \"table\"}]}, \"layout\": {\"annotationdefaults\": {\"arrowcolor\": \"#2a3f5f\", \"arrowhead\": 0, \"arrowwidth\": 1}, \"coloraxis\": {\"colorbar\": {\"outlinewidth\": 0, \"ticks\": \"\"}}, \"colorscale\": {\"diverging\": [[0, \"#8e0152\"], [0.1, \"#c51b7d\"], [0.2, \"#de77ae\"], [0.3, \"#f1b6da\"], [0.4, \"#fde0ef\"], [0.5, \"#f7f7f7\"], [0.6, \"#e6f5d0\"], [0.7, \"#b8e186\"], [0.8, \"#7fbc41\"], [0.9, \"#4d9221\"], [1, \"#276419\"]], \"sequential\": [[0.0, \"#0d0887\"], [0.1111111111111111, \"#46039f\"], [0.2222222222222222, \"#7201a8\"], [0.3333333333333333, \"#9c179e\"], [0.4444444444444444, \"#bd3786\"], [0.5555555555555556, \"#d8576b\"], [0.6666666666666666, \"#ed7953\"], [0.7777777777777778, \"#fb9f3a\"], [0.8888888888888888, \"#fdca26\"], [1.0, \"#f0f921\"]], \"sequentialminus\": [[0.0, \"#0d0887\"], [0.1111111111111111, \"#46039f\"], [0.2222222222222222, \"#7201a8\"], [0.3333333333333333, \"#9c179e\"], [0.4444444444444444, \"#bd3786\"], [0.5555555555555556, \"#d8576b\"], [0.6666666666666666, \"#ed7953\"], [0.7777777777777778, \"#fb9f3a\"], [0.8888888888888888, \"#fdca26\"], [1.0, \"#f0f921\"]]}, \"colorway\": [\"#636efa\", \"#EF553B\", \"#00cc96\", \"#ab63fa\", \"#FFA15A\", \"#19d3f3\", \"#FF6692\", \"#B6E880\", \"#FF97FF\", \"#FECB52\"], \"font\": {\"color\": \"#2a3f5f\"}, \"geo\": {\"bgcolor\": \"white\", \"lakecolor\": \"white\", \"landcolor\": \"#E5ECF6\", \"showlakes\": true, \"showland\": true, \"subunitcolor\": \"white\"}, \"hoverlabel\": {\"align\": \"left\"}, \"hovermode\": \"closest\", \"mapbox\": {\"style\": \"light\"}, \"paper_bgcolor\": \"white\", \"plot_bgcolor\": \"#E5ECF6\", \"polar\": {\"angularaxis\": {\"gridcolor\": \"white\", \"linecolor\": \"white\", \"ticks\": \"\"}, \"bgcolor\": \"#E5ECF6\", \"radialaxis\": {\"gridcolor\": \"white\", \"linecolor\": \"white\", \"ticks\": \"\"}}, \"scene\": {\"xaxis\": {\"backgroundcolor\": \"#E5ECF6\", \"gridcolor\": \"white\", \"gridwidth\": 2, \"linecolor\": \"white\", \"showbackground\": true, \"ticks\": \"\", \"zerolinecolor\": \"white\"}, \"yaxis\": {\"backgroundcolor\": \"#E5ECF6\", \"gridcolor\": \"white\", \"gridwidth\": 2, \"linecolor\": \"white\", \"showbackground\": true, \"ticks\": \"\", \"zerolinecolor\": \"white\"}, \"zaxis\": {\"backgroundcolor\": \"#E5ECF6\", \"gridcolor\": \"white\", \"gridwidth\": 2, \"linecolor\": \"white\", \"showbackground\": true, \"ticks\": \"\", \"zerolinecolor\": \"white\"}}, \"shapedefaults\": {\"line\": {\"color\": \"#2a3f5f\"}}, \"ternary\": {\"aaxis\": {\"gridcolor\": \"white\", \"linecolor\": \"white\", \"ticks\": \"\"}, \"baxis\": {\"gridcolor\": \"white\", \"linecolor\": \"white\", \"ticks\": \"\"}, \"bgcolor\": \"#E5ECF6\", \"caxis\": {\"gridcolor\": \"white\", \"linecolor\": \"white\", \"ticks\": \"\"}}, \"title\": {\"x\": 0.05}, \"xaxis\": {\"automargin\": true, \"gridcolor\": \"white\", \"linecolor\": \"white\", \"ticks\": \"\", \"title\": {\"standoff\": 15}, \"zerolinecolor\": \"white\", \"zerolinewidth\": 2}, \"yaxis\": {\"automargin\": true, \"gridcolor\": \"white\", \"linecolor\": \"white\", \"ticks\": \"\", \"title\": {\"standoff\": 15}, \"zerolinecolor\": \"white\", \"zerolinewidth\": 2}}}, \"title\": {\"text\": \"Model Accuracy\"}, \"xaxis\": {\"anchor\": \"y\", \"domain\": [0.0, 1.0], \"title\": {\"text\": \"Model\"}}, \"yaxis\": {\"anchor\": \"x\", \"domain\": [0.0, 1.0], \"title\": {\"text\": \"Accuracy\"}}},                        {\"responsive\": true}                    ).then(function(){\n",
       "                            \n",
       "var gd = document.getElementById('bc5d837c-f2d5-4bfd-97e6-a5f0b8dedc84');\n",
       "var x = new MutationObserver(function (mutations, observer) {{\n",
       "        var display = window.getComputedStyle(gd).display;\n",
       "        if (!display || display === 'none') {{\n",
       "            console.log([gd, 'removed!']);\n",
       "            Plotly.purge(gd);\n",
       "            observer.disconnect();\n",
       "        }}\n",
       "}});\n",
       "\n",
       "// Listen for the removal of the full notebook cells\n",
       "var notebookContainer = gd.closest('#notebook-container');\n",
       "if (notebookContainer) {{\n",
       "    x.observe(notebookContainer, {childList: true});\n",
       "}}\n",
       "\n",
       "// Listen for the clearing of the current output cell\n",
       "var outputEl = gd.closest('.output');\n",
       "if (outputEl) {{\n",
       "    x.observe(outputEl, {childList: true});\n",
       "}}\n",
       "\n",
       "                        })                };                });            </script>        </div>"
      ]
     },
     "metadata": {},
     "output_type": "display_data"
    }
   ],
   "source": [
    "fig = px.bar(\n",
    "    x=['Logistic Regression', 'Support Vector Machine', 'Neural Network'],\n",
    "    y=[log_acc, svm_acc, ann_acc],\n",
    "    color=['Logistic Regression', 'Support Vector Machine', 'Neural Network'],\n",
    "    labels={'x': \"Model\", 'y': \"Accuracy\"},\n",
    "    title=\"Model Accuracy\"\n",
    ")\n",
    "\n",
    "fig.show()"
   ]
  },
  {
   "cell_type": "code",
   "execution_count": 20,
   "metadata": {
    "execution": {
     "iopub.execute_input": "2020-09-28T17:42:02.931174Z",
     "iopub.status.busy": "2020-09-28T17:42:02.930235Z",
     "iopub.status.idle": "2020-09-28T17:42:02.936395Z",
     "shell.execute_reply": "2020-09-28T17:42:02.935488Z"
    },
    "papermill": {
     "duration": 0.047441,
     "end_time": "2020-09-28T17:42:02.936565",
     "exception": false,
     "start_time": "2020-09-28T17:42:02.889124",
     "status": "completed"
    },
    "tags": []
   },
   "outputs": [
    {
     "data": {
      "text/plain": [
       "0.2"
      ]
     },
     "execution_count": 20,
     "metadata": {},
     "output_type": "execute_result"
    }
   ],
   "source": [
    "1/5"
   ]
  },
  {
   "cell_type": "code",
   "execution_count": 21,
   "metadata": {
    "execution": {
     "iopub.execute_input": "2020-09-28T17:42:03.018082Z",
     "iopub.status.busy": "2020-09-28T17:42:03.016965Z",
     "iopub.status.idle": "2020-09-28T17:42:03.022123Z",
     "shell.execute_reply": "2020-09-28T17:42:03.023664Z"
    },
    "papermill": {
     "duration": 0.050024,
     "end_time": "2020-09-28T17:42:03.023898",
     "exception": false,
     "start_time": "2020-09-28T17:42:02.973874",
     "status": "completed"
    },
    "tags": []
   },
   "outputs": [
    {
     "name": "stdout",
     "output_type": "stream",
     "text": [
      "Logistic Regression: 0.5027223230490018\n",
      "Support Vector Machine: 0.484573502722323\n",
      "Neural Network: 0.4827586206896552\n"
     ]
    }
   ],
   "source": [
    "print(\"Logistic Regression:\", log_acc)\n",
    "print(\"Support Vector Machine:\", svm_acc)\n",
    "print(\"Neural Network:\", ann_acc)"
   ]
  },
  {
   "cell_type": "markdown",
   "metadata": {
    "papermill": {
     "duration": 0.033223,
     "end_time": "2020-09-28T17:42:03.089922",
     "exception": false,
     "start_time": "2020-09-28T17:42:03.056699",
     "status": "completed"
    },
    "tags": []
   },
   "source": [
    "# Data Every Day  \n",
    "\n",
    "This notebook is featured on Data Every Day, a YouTube series where I train models on a new dataset each day.  \n",
    "\n",
    "***\n",
    "\n",
    "Check it out!  \n",
    "https://youtu.be/SFV-zQMuR0o"
   ]
  }
 ],
 "metadata": {
  "kernelspec": {
   "display_name": "Python 3",
   "language": "python",
   "name": "python3"
  },
  "language_info": {
   "codemirror_mode": {
    "name": "ipython",
    "version": 3
   },
   "file_extension": ".py",
   "mimetype": "text/x-python",
   "name": "python",
   "nbconvert_exporter": "python",
   "pygments_lexer": "ipython3",
   "version": "3.7.6"
  },
  "papermill": {
   "duration": 12.47247,
   "end_time": "2020-09-28T17:42:03.234100",
   "environment_variables": {},
   "exception": null,
   "input_path": "__notebook__.ipynb",
   "output_path": "__notebook__.ipynb",
   "parameters": {},
   "start_time": "2020-09-28T17:41:50.761630",
   "version": "2.1.0"
  }
 },
 "nbformat": 4,
 "nbformat_minor": 4
}
